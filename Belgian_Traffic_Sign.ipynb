{
  "cells": [
    {
      "cell_type": "markdown",
      "metadata": {
        "id": "O7xfOYwh-I8h"
      },
      "source": [
        "# BelgiumTS - Belgian Traffic Sign Dataset \n"
      ]
    },
    {
      "cell_type": "markdown",
      "metadata": {
        "id": "YvuBgwB8jjC5"
      },
      "source": [
        "## CNN"
      ]
    },
    {
      "cell_type": "markdown",
      "metadata": {
        "id": "dfEYflFYkTft"
      },
      "source": [
        "### Train the model"
      ]
    },
    {
      "cell_type": "code",
      "execution_count": null,
      "metadata": {
        "colab": {
          "base_uri": "https://localhost:8080/"
        },
        "id": "psYLFWxH7lSt",
        "outputId": "7f6abc0e-7d49-4d9f-ef46-8b0ad4e7fb04"
      },
      "outputs": [
        {
          "name": "stdout",
          "output_type": "stream",
          "text": [
            "Mounted at /content/gdrive\n"
          ]
        }
      ],
      "source": [
        "import tensorflow as tf\n",
        "import matplotlib.pyplot as plt\n",
        "import numpy as np\n",
        "from keras.preprocessing.image import ImageDataGenerator\n",
        "\n",
        "from google.colab import drive\n",
        "drive.mount(\"/content/gdrive\")"
      ]
    },
    {
      "cell_type": "code",
      "execution_count": null,
      "metadata": {
        "id": "D7-yNAdD2WiV"
      },
      "outputs": [],
      "source": [
        "import zipfile\n",
        "local_zip = '/content/gdrive/MyDrive/imagedb_btsd.zip'\n",
        "zip_ref = zipfile.ZipFile(local_zip, 'r')\n",
        "zip_ref.extractall('/content')\n",
        "zip_ref.close()"
      ]
    },
    {
      "cell_type": "code",
      "execution_count": null,
      "metadata": {
        "id": "r4uW6HXQ7lSy"
      },
      "outputs": [],
      "source": [
        "train_path = '/content/imagedb_btsd/imagedb'\n",
        "test_path = '/content/imagedb_btsd/imagedb_test'"
      ]
    },
    {
      "cell_type": "code",
      "execution_count": null,
      "metadata": {
        "id": "Zue8ZBo07lS0"
      },
      "outputs": [],
      "source": [
        "batch_size = 64\n",
        "epochs = 250\n",
        "IMG_HEIGHT = 256\n",
        "IMG_WIDTH = 256\n",
        "IMG_COLOR = 3\n",
        "num_of_classes = 34"
      ]
    },
    {
      "cell_type": "code",
      "execution_count": null,
      "metadata": {
        "id": "PBiVlNOBvesL"
      },
      "outputs": [],
      "source": [
        "from keras.callbacks import EarlyStopping\n",
        "from keras.callbacks import ModelCheckpoint\n",
        "\n",
        "# Early stopping\n",
        "early_stopping = EarlyStopping(monitor='val_loss', mode='min', restore_best_weights=True, patience=25, verbose=1)\n",
        "\n",
        "# Checkpoints\n",
        "checkpoint_filepath = '/content/gdrive/MyDrive/Colab Notebooks/Belgian Traffic Sign Best Model/my_belgian_traffic_signs.hdf5'\n",
        "\n",
        "model_checkpoint = ModelCheckpoint(filepath=checkpoint_filepath, monitor='val_loss', mode='min', save_best_only=True)\n",
        "\n",
        "#Scheduler\n",
        "reduce_lr = tf.keras.callbacks.ReduceLROnPlateau(monitor='val_loss', factor=0.5, patience=5, min_lr=1e-6)"
      ]
    },
    {
      "cell_type": "code",
      "execution_count": null,
      "metadata": {
        "colab": {
          "base_uri": "https://localhost:8080/"
        },
        "id": "b6CvG8Ck7lS1",
        "outputId": "c7a2e695-bd60-4102-c8ab-c305b64c6ea1"
      },
      "outputs": [
        {
          "name": "stdout",
          "output_type": "stream",
          "text": [
            "Found 2457 images belonging to 34 classes.\n",
            "Found 599 images belonging to 34 classes.\n",
            "Found 2149 images belonging to 34 classes.\n"
          ]
        }
      ],
      "source": [
        "rescale = 1./255\n",
        "\n",
        "train_image_generator = ImageDataGenerator(rescale=rescale, \n",
        "                                           validation_split=0.2,\n",
        "                                           width_shift_range=0.1, \n",
        "                                           height_shift_range=0.1, \n",
        "                                           horizontal_flip=True, \n",
        "                                           rotation_range=15,\n",
        "                                           zoom_range=0.1)\n",
        "\n",
        "test_image_generator = ImageDataGenerator(rescale=rescale)\n",
        "\n",
        "train_data_gen = train_image_generator.flow_from_directory(\n",
        "        directory=train_path,\n",
        "        target_size=(IMG_HEIGHT, IMG_WIDTH),\n",
        "        batch_size=batch_size,\n",
        "        class_mode='categorical',\n",
        "        subset='training')\n",
        "\n",
        "val_data_gen = train_image_generator.flow_from_directory(\n",
        "        directory=train_path,\n",
        "        target_size=(IMG_HEIGHT, IMG_WIDTH),\n",
        "        batch_size=batch_size,\n",
        "        class_mode='categorical',\n",
        "        subset='validation')\n",
        "\n",
        "test_data_gen = test_image_generator.flow_from_directory(\n",
        "        directory=test_path, \n",
        "        target_size=(IMG_HEIGHT, IMG_WIDTH),\n",
        "        batch_size=batch_size,\n",
        "        class_mode='categorical',\n",
        "        shuffle=False)"
      ]
    },
    {
      "cell_type": "code",
      "execution_count": null,
      "metadata": {
        "id": "CrZJEmUDYFM5"
      },
      "outputs": [],
      "source": [
        "import seaborn as sns\n",
        "from sklearn.metrics import confusion_matrix\n",
        "\n",
        "def plot_diagrams(history, h=20, w=8):\n",
        "    epochs = len(history.history['loss'])\n",
        "    acc = history.history['accuracy']\n",
        "    val_acc = history.history['val_accuracy']\n",
        "\n",
        "    loss = history.history['loss']\n",
        "    val_loss = history.history['val_loss']\n",
        "\n",
        "    epochs_range = range(epochs)\n",
        "\n",
        "    plt.figure(figsize=(h, w))\n",
        "    plt.subplot(1, 2, 1)\n",
        "    plt.plot(epochs_range, acc, label='Training Accuracy')\n",
        "    plt.plot(epochs_range, val_acc, label='Validation Accuracy')\n",
        "    plt.xlabel('Epoch')\n",
        "    plt.ylabel('Accuracy')\n",
        "    plt.legend(loc='lower right')\n",
        "    plt.title('Training and Validation Accuracy')\n",
        "\n",
        "    plt.subplot(1, 2, 2)\n",
        "    plt.plot(epochs_range, loss, label='Training Loss')\n",
        "    plt.plot(epochs_range, val_loss, label='Validation Loss')\n",
        "    plt.xlabel('Epoch')\n",
        "    plt.ylabel('Loss')\n",
        "    plt.legend(loc='upper right')\n",
        "    plt.title('Training and Validation Loss')\n",
        "    plt.show()"
      ]
    },
    {
      "cell_type": "code",
      "execution_count": null,
      "metadata": {
        "id": "Z-av3Ecy7lS3"
      },
      "outputs": [],
      "source": [
        "model = tf.keras.Sequential([\n",
        "    tf.keras.layers.Conv2D(32, (3, 3), activation='relu', input_shape=(IMG_HEIGHT, IMG_WIDTH, IMG_COLOR)),\n",
        "    tf.keras.layers.Conv2D(32, (3, 3), activation='relu'),\n",
        "    tf.keras.layers.Conv2D(32, (3, 3), activation='relu'),\n",
        "    tf.keras.layers.MaxPooling2D((2, 2)),\n",
        "\n",
        "    tf.keras.layers.Conv2D(64, (3, 3), activation='relu'),\n",
        "    tf.keras.layers.Conv2D(64, (3, 3), activation='relu'),\n",
        "    tf.keras.layers.Conv2D(64, (3, 3), activation='relu'),\n",
        "    tf.keras.layers.MaxPooling2D((2, 2)),\n",
        "\n",
        "    tf.keras.layers.Conv2D(128, (3, 3), activation='relu'),\n",
        "    tf.keras.layers.Conv2D(128, (3, 3), activation='relu'),\n",
        "    tf.keras.layers.Conv2D(128, (3, 3), activation='relu'),\n",
        "    tf.keras.layers.MaxPooling2D((2, 2)),\n",
        "\n",
        "    tf.keras.layers.Conv2D(256, (3, 3), activation='relu'),\n",
        "    tf.keras.layers.Conv2D(256, (3, 3), activation='relu'),\n",
        "    tf.keras.layers.Conv2D(256, (3, 3), activation='relu'),\n",
        "    tf.keras.layers.MaxPooling2D((2, 2)),\n",
        "\n",
        "    tf.keras.layers.Flatten(),\n",
        "    tf.keras.layers.Dense(num_of_classes, activation='softmax')\n",
        "])\n",
        "\n",
        "model.compile(optimizer=tf.keras.optimizers.Adam(),\n",
        "              loss=tf.keras.losses.CategoricalCrossentropy(),\n",
        "              metrics=['accuracy'])"
      ]
    },
    {
      "cell_type": "code",
      "execution_count": null,
      "metadata": {
        "colab": {
          "base_uri": "https://localhost:8080/"
        },
        "id": "5C9ubm2WRCJu",
        "outputId": "af430e5c-f11d-4926-8a36-515dfeeabcb1"
      },
      "outputs": [
        {
          "name": "stdout",
          "output_type": "stream",
          "text": [
            "Epoch 1/250\n",
            "39/39 [==============================] - 73s 1s/step - loss: 3.4345 - accuracy: 0.0924 - val_loss: 3.1906 - val_accuracy: 0.1235 - lr: 0.0010\n",
            "Epoch 2/250\n",
            "39/39 [==============================] - 47s 1s/step - loss: 3.2155 - accuracy: 0.0997 - val_loss: 3.1833 - val_accuracy: 0.0935 - lr: 0.0010\n",
            "Epoch 3/250\n",
            "39/39 [==============================] - 49s 1s/step - loss: 3.1846 - accuracy: 0.1184 - val_loss: 3.0988 - val_accuracy: 0.1269 - lr: 0.0010\n",
            "Epoch 4/250\n",
            "39/39 [==============================] - 49s 1s/step - loss: 2.3389 - accuracy: 0.2991 - val_loss: 1.8644 - val_accuracy: 0.3723 - lr: 0.0010\n",
            "Epoch 5/250\n",
            "39/39 [==============================] - 47s 1s/step - loss: 1.7963 - accuracy: 0.4208 - val_loss: 1.7532 - val_accuracy: 0.4007 - lr: 0.0010\n",
            "Epoch 6/250\n",
            "39/39 [==============================] - 48s 1s/step - loss: 1.7761 - accuracy: 0.4550 - val_loss: 1.6319 - val_accuracy: 0.5042 - lr: 0.0010\n",
            "Epoch 7/250\n",
            "39/39 [==============================] - 48s 1s/step - loss: 1.5325 - accuracy: 0.5234 - val_loss: 1.3461 - val_accuracy: 0.5876 - lr: 0.0010\n",
            "Epoch 8/250\n",
            "39/39 [==============================] - 47s 1s/step - loss: 1.0945 - accuracy: 0.6667 - val_loss: 0.9197 - val_accuracy: 0.7262 - lr: 0.0010\n",
            "Epoch 9/250\n",
            "39/39 [==============================] - 48s 1s/step - loss: 0.9193 - accuracy: 0.7167 - val_loss: 0.8363 - val_accuracy: 0.7546 - lr: 0.0010\n",
            "Epoch 10/250\n",
            "39/39 [==============================] - 47s 1s/step - loss: 0.8101 - accuracy: 0.7550 - val_loss: 0.8250 - val_accuracy: 0.7646 - lr: 0.0010\n",
            "Epoch 11/250\n",
            "39/39 [==============================] - 48s 1s/step - loss: 0.5799 - accuracy: 0.8405 - val_loss: 0.8045 - val_accuracy: 0.7947 - lr: 0.0010\n",
            "Epoch 12/250\n",
            "39/39 [==============================] - 48s 1s/step - loss: 0.4797 - accuracy: 0.8571 - val_loss: 0.4554 - val_accuracy: 0.8631 - lr: 0.0010\n",
            "Epoch 13/250\n",
            "39/39 [==============================] - 46s 1s/step - loss: 0.3519 - accuracy: 0.9076 - val_loss: 0.5438 - val_accuracy: 0.8447 - lr: 0.0010\n",
            "Epoch 14/250\n",
            "39/39 [==============================] - 46s 1s/step - loss: 0.2869 - accuracy: 0.9186 - val_loss: 0.3727 - val_accuracy: 0.8965 - lr: 0.0010\n",
            "Epoch 15/250\n",
            "39/39 [==============================] - 47s 1s/step - loss: 0.2574 - accuracy: 0.9255 - val_loss: 0.3596 - val_accuracy: 0.9082 - lr: 0.0010\n",
            "Epoch 16/250\n",
            "39/39 [==============================] - 47s 1s/step - loss: 0.2296 - accuracy: 0.9345 - val_loss: 0.3517 - val_accuracy: 0.9115 - lr: 0.0010\n",
            "Epoch 17/250\n",
            "39/39 [==============================] - 47s 1s/step - loss: 0.1984 - accuracy: 0.9426 - val_loss: 0.3505 - val_accuracy: 0.9098 - lr: 0.0010\n",
            "Epoch 18/250\n",
            "39/39 [==============================] - 46s 1s/step - loss: 0.1445 - accuracy: 0.9601 - val_loss: 0.3051 - val_accuracy: 0.9215 - lr: 0.0010\n",
            "Epoch 19/250\n",
            "39/39 [==============================] - 48s 1s/step - loss: 0.1514 - accuracy: 0.9589 - val_loss: 0.2052 - val_accuracy: 0.9449 - lr: 0.0010\n",
            "Epoch 20/250\n",
            "39/39 [==============================] - 46s 1s/step - loss: 0.1226 - accuracy: 0.9638 - val_loss: 0.2132 - val_accuracy: 0.9499 - lr: 0.0010\n",
            "Epoch 21/250\n",
            "39/39 [==============================] - 47s 1s/step - loss: 0.1138 - accuracy: 0.9695 - val_loss: 0.2601 - val_accuracy: 0.9165 - lr: 0.0010\n",
            "Epoch 22/250\n",
            "39/39 [==============================] - 46s 1s/step - loss: 0.0904 - accuracy: 0.9752 - val_loss: 0.2351 - val_accuracy: 0.9382 - lr: 0.0010\n",
            "Epoch 23/250\n",
            "39/39 [==============================] - 48s 1s/step - loss: 0.0914 - accuracy: 0.9760 - val_loss: 0.1974 - val_accuracy: 0.9533 - lr: 0.0010\n",
            "Epoch 24/250\n",
            "39/39 [==============================] - 48s 1s/step - loss: 0.0754 - accuracy: 0.9792 - val_loss: 0.2433 - val_accuracy: 0.9499 - lr: 0.0010\n",
            "Epoch 25/250\n",
            "39/39 [==============================] - 46s 1s/step - loss: 0.0846 - accuracy: 0.9805 - val_loss: 0.2178 - val_accuracy: 0.9599 - lr: 0.0010\n",
            "Epoch 26/250\n",
            "39/39 [==============================] - 48s 1s/step - loss: 0.0721 - accuracy: 0.9788 - val_loss: 0.2186 - val_accuracy: 0.9499 - lr: 0.0010\n",
            "Epoch 27/250\n",
            "39/39 [==============================] - 48s 1s/step - loss: 0.0828 - accuracy: 0.9780 - val_loss: 0.2216 - val_accuracy: 0.9549 - lr: 0.0010\n",
            "Epoch 28/250\n",
            "39/39 [==============================] - 46s 1s/step - loss: 0.0590 - accuracy: 0.9853 - val_loss: 0.2177 - val_accuracy: 0.9583 - lr: 0.0010\n",
            "Epoch 29/250\n",
            "39/39 [==============================] - 47s 1s/step - loss: 0.0554 - accuracy: 0.9829 - val_loss: 0.2156 - val_accuracy: 0.9616 - lr: 5.0000e-04\n",
            "Epoch 30/250\n",
            "39/39 [==============================] - 46s 1s/step - loss: 0.0379 - accuracy: 0.9874 - val_loss: 0.1845 - val_accuracy: 0.9533 - lr: 5.0000e-04\n",
            "Epoch 31/250\n",
            "39/39 [==============================] - 47s 1s/step - loss: 0.0461 - accuracy: 0.9878 - val_loss: 0.2032 - val_accuracy: 0.9533 - lr: 5.0000e-04\n",
            "Epoch 32/250\n",
            "39/39 [==============================] - 47s 1s/step - loss: 0.0407 - accuracy: 0.9898 - val_loss: 0.1582 - val_accuracy: 0.9616 - lr: 5.0000e-04\n",
            "Epoch 33/250\n",
            "39/39 [==============================] - 47s 1s/step - loss: 0.0464 - accuracy: 0.9902 - val_loss: 0.2466 - val_accuracy: 0.9583 - lr: 5.0000e-04\n",
            "Epoch 34/250\n",
            "39/39 [==============================] - 46s 1s/step - loss: 0.0432 - accuracy: 0.9874 - val_loss: 0.1809 - val_accuracy: 0.9616 - lr: 5.0000e-04\n",
            "Epoch 35/250\n",
            "39/39 [==============================] - 47s 1s/step - loss: 0.0368 - accuracy: 0.9894 - val_loss: 0.1433 - val_accuracy: 0.9683 - lr: 5.0000e-04\n",
            "Epoch 36/250\n",
            "39/39 [==============================] - 47s 1s/step - loss: 0.0348 - accuracy: 0.9910 - val_loss: 0.1942 - val_accuracy: 0.9583 - lr: 5.0000e-04\n",
            "Epoch 37/250\n",
            "39/39 [==============================] - 46s 1s/step - loss: 0.0390 - accuracy: 0.9894 - val_loss: 0.1581 - val_accuracy: 0.9633 - lr: 5.0000e-04\n",
            "Epoch 38/250\n",
            "39/39 [==============================] - 47s 1s/step - loss: 0.0341 - accuracy: 0.9878 - val_loss: 0.1987 - val_accuracy: 0.9566 - lr: 5.0000e-04\n",
            "Epoch 39/250\n",
            "39/39 [==============================] - 46s 1s/step - loss: 0.0343 - accuracy: 0.9898 - val_loss: 0.1950 - val_accuracy: 0.9533 - lr: 5.0000e-04\n",
            "Epoch 40/250\n",
            "39/39 [==============================] - 47s 1s/step - loss: 0.0410 - accuracy: 0.9866 - val_loss: 0.2451 - val_accuracy: 0.9549 - lr: 5.0000e-04\n",
            "Epoch 41/250\n",
            "39/39 [==============================] - 46s 1s/step - loss: 0.0372 - accuracy: 0.9898 - val_loss: 0.1840 - val_accuracy: 0.9533 - lr: 2.5000e-04\n",
            "Epoch 42/250\n",
            "39/39 [==============================] - 47s 1s/step - loss: 0.0240 - accuracy: 0.9943 - val_loss: 0.1527 - val_accuracy: 0.9666 - lr: 2.5000e-04\n",
            "Epoch 43/250\n",
            "39/39 [==============================] - 46s 1s/step - loss: 0.0214 - accuracy: 0.9947 - val_loss: 0.1828 - val_accuracy: 0.9683 - lr: 2.5000e-04\n",
            "Epoch 44/250\n",
            "39/39 [==============================] - 47s 1s/step - loss: 0.0222 - accuracy: 0.9935 - val_loss: 0.1448 - val_accuracy: 0.9683 - lr: 2.5000e-04\n",
            "Epoch 45/250\n",
            "39/39 [==============================] - 47s 1s/step - loss: 0.0216 - accuracy: 0.9931 - val_loss: 0.2078 - val_accuracy: 0.9583 - lr: 2.5000e-04\n",
            "Epoch 46/250\n",
            "39/39 [==============================] - 45s 1s/step - loss: 0.0208 - accuracy: 0.9939 - val_loss: 0.1931 - val_accuracy: 0.9716 - lr: 1.2500e-04\n",
            "Epoch 47/250\n",
            "39/39 [==============================] - 48s 1s/step - loss: 0.0162 - accuracy: 0.9951 - val_loss: 0.1180 - val_accuracy: 0.9666 - lr: 1.2500e-04\n",
            "Epoch 48/250\n",
            "39/39 [==============================] - 47s 1s/step - loss: 0.0240 - accuracy: 0.9943 - val_loss: 0.1992 - val_accuracy: 0.9683 - lr: 1.2500e-04\n",
            "Epoch 49/250\n",
            "39/39 [==============================] - 46s 1s/step - loss: 0.0191 - accuracy: 0.9931 - val_loss: 0.1804 - val_accuracy: 0.9599 - lr: 1.2500e-04\n",
            "Epoch 50/250\n",
            "39/39 [==============================] - 45s 1s/step - loss: 0.0162 - accuracy: 0.9939 - val_loss: 0.1691 - val_accuracy: 0.9649 - lr: 1.2500e-04\n",
            "Epoch 51/250\n",
            "39/39 [==============================] - 47s 1s/step - loss: 0.0147 - accuracy: 0.9959 - val_loss: 0.1885 - val_accuracy: 0.9566 - lr: 1.2500e-04\n",
            "Epoch 52/250\n",
            "39/39 [==============================] - 47s 1s/step - loss: 0.0185 - accuracy: 0.9947 - val_loss: 0.1496 - val_accuracy: 0.9616 - lr: 1.2500e-04\n",
            "Epoch 53/250\n",
            "39/39 [==============================] - 45s 1s/step - loss: 0.0149 - accuracy: 0.9951 - val_loss: 0.1718 - val_accuracy: 0.9683 - lr: 6.2500e-05\n",
            "Epoch 54/250\n",
            "39/39 [==============================] - 45s 1s/step - loss: 0.0104 - accuracy: 0.9951 - val_loss: 0.1285 - val_accuracy: 0.9750 - lr: 6.2500e-05\n",
            "Epoch 55/250\n",
            "39/39 [==============================] - 47s 1s/step - loss: 0.0174 - accuracy: 0.9943 - val_loss: 0.1628 - val_accuracy: 0.9599 - lr: 6.2500e-05\n",
            "Epoch 56/250\n",
            "39/39 [==============================] - 47s 1s/step - loss: 0.0148 - accuracy: 0.9959 - val_loss: 0.1882 - val_accuracy: 0.9666 - lr: 6.2500e-05\n",
            "Epoch 57/250\n",
            "39/39 [==============================] - 46s 1s/step - loss: 0.0101 - accuracy: 0.9967 - val_loss: 0.1669 - val_accuracy: 0.9566 - lr: 6.2500e-05\n",
            "Epoch 58/250\n",
            "39/39 [==============================] - 47s 1s/step - loss: 0.0128 - accuracy: 0.9972 - val_loss: 0.1718 - val_accuracy: 0.9683 - lr: 3.1250e-05\n",
            "Epoch 59/250\n",
            "39/39 [==============================] - 45s 1s/step - loss: 0.0129 - accuracy: 0.9963 - val_loss: 0.1511 - val_accuracy: 0.9683 - lr: 3.1250e-05\n",
            "Epoch 60/250\n",
            "39/39 [==============================] - 47s 1s/step - loss: 0.0141 - accuracy: 0.9963 - val_loss: 0.1463 - val_accuracy: 0.9766 - lr: 3.1250e-05\n",
            "Epoch 61/250\n",
            "39/39 [==============================] - 45s 1s/step - loss: 0.0132 - accuracy: 0.9955 - val_loss: 0.2237 - val_accuracy: 0.9599 - lr: 3.1250e-05\n",
            "Epoch 62/250\n",
            "39/39 [==============================] - 47s 1s/step - loss: 0.0124 - accuracy: 0.9963 - val_loss: 0.1818 - val_accuracy: 0.9633 - lr: 3.1250e-05\n",
            "Epoch 63/250\n",
            "39/39 [==============================] - 45s 1s/step - loss: 0.0121 - accuracy: 0.9967 - val_loss: 0.1851 - val_accuracy: 0.9683 - lr: 1.5625e-05\n",
            "Epoch 64/250\n",
            "39/39 [==============================] - 47s 1s/step - loss: 0.0136 - accuracy: 0.9947 - val_loss: 0.1960 - val_accuracy: 0.9633 - lr: 1.5625e-05\n",
            "Epoch 65/250\n",
            "39/39 [==============================] - 47s 1s/step - loss: 0.0124 - accuracy: 0.9951 - val_loss: 0.1475 - val_accuracy: 0.9649 - lr: 1.5625e-05\n",
            "Epoch 66/250\n",
            "39/39 [==============================] - 46s 1s/step - loss: 0.0141 - accuracy: 0.9959 - val_loss: 0.1473 - val_accuracy: 0.9666 - lr: 1.5625e-05\n",
            "Epoch 67/250\n",
            "39/39 [==============================] - 47s 1s/step - loss: 0.0096 - accuracy: 0.9980 - val_loss: 0.1700 - val_accuracy: 0.9649 - lr: 1.5625e-05\n",
            "Epoch 68/250\n",
            "39/39 [==============================] - 48s 1s/step - loss: 0.0124 - accuracy: 0.9967 - val_loss: 0.1706 - val_accuracy: 0.9566 - lr: 7.8125e-06\n",
            "Epoch 69/250\n",
            "39/39 [==============================] - 47s 1s/step - loss: 0.0097 - accuracy: 0.9972 - val_loss: 0.1489 - val_accuracy: 0.9716 - lr: 7.8125e-06\n",
            "Epoch 70/250\n",
            "39/39 [==============================] - 46s 1s/step - loss: 0.0086 - accuracy: 0.9976 - val_loss: 0.1566 - val_accuracy: 0.9616 - lr: 7.8125e-06\n",
            "Epoch 71/250\n",
            "39/39 [==============================] - 47s 1s/step - loss: 0.0132 - accuracy: 0.9963 - val_loss: 0.1341 - val_accuracy: 0.9750 - lr: 7.8125e-06\n",
            "Epoch 72/250\n",
            "39/39 [==============================] - ETA: 0s - loss: 0.0070 - accuracy: 0.9980Restoring model weights from the end of the best epoch: 47.\n",
            "39/39 [==============================] - 45s 1s/step - loss: 0.0070 - accuracy: 0.9980 - val_loss: 0.1860 - val_accuracy: 0.9616 - lr: 7.8125e-06\n",
            "Epoch 72: early stopping\n"
          ]
        }
      ],
      "source": [
        "history = model.fit(x=train_data_gen, \n",
        "                    validation_data=val_data_gen, \n",
        "                    epochs=epochs, batch_size=batch_size, shuffle=True, callbacks=[early_stopping, model_checkpoint, reduce_lr])"
      ]
    },
    {
      "cell_type": "code",
      "execution_count": null,
      "metadata": {
        "colab": {
          "base_uri": "https://localhost:8080/"
        },
        "id": "2dXeaAbU7lS4",
        "outputId": "dd113efd-871a-48d8-f3e7-53d34a4e0cba"
      },
      "outputs": [
        {
          "name": "stdout",
          "output_type": "stream",
          "text": [
            "39/39 - 33s - loss: 0.0168 - accuracy: 0.9943 - 33s/epoch - 857ms/step\n",
            "Train accuracy: 99.43%\n"
          ]
        }
      ],
      "source": [
        "train_loss, train_acc = model.evaluate(train_data_gen, verbose=2)\n",
        "print(\"Train accuracy: \" + \"{:.2f}\".format(train_acc*100) + \"%\")"
      ]
    },
    {
      "cell_type": "code",
      "execution_count": null,
      "metadata": {
        "colab": {
          "base_uri": "https://localhost:8080/"
        },
        "id": "8iPZRQ9X7lS4",
        "outputId": "62a5e684-1b2b-4669-c3b0-cde52c3a8a02"
      },
      "outputs": [
        {
          "name": "stdout",
          "output_type": "stream",
          "text": [
            "34/34 - 9s - loss: 0.1270 - accuracy: 0.9828 - 9s/epoch - 258ms/step\n",
            "Test accuracy: 98.28%\n"
          ]
        }
      ],
      "source": [
        "test_loss, test_acc = model.evaluate(test_data_gen, verbose=2)\n",
        "print(\"Test accuracy: \" + \"{:.2f}\".format(test_acc*100) + \"%\")"
      ]
    },
    {
      "cell_type": "code",
      "execution_count": null,
      "metadata": {
        "colab": {
          "base_uri": "https://localhost:8080/",
          "height": 513
        },
        "id": "dnWTTFjVYF7c",
        "outputId": "7fbcd97b-2540-4628-af3e-7820a8c527c7"
      },
      "outputs": [
        {
          "data": {
            "image/png": "[encoded data removed]",
            "text/plain": [
              "<Figure size 1440x576 with 2 Axes>"
            ]
          },
          "metadata": {},
          "output_type": "display_data"
        }
      ],
      "source": [
        "plot_diagrams(history)"
      ]
    },
    {
      "cell_type": "markdown",
      "metadata": {
        "id": "W2QvzydEkYXz"
      },
      "source": [
        "### Load the model"
      ]
    },
    {
      "cell_type": "code",
      "execution_count": null,
      "metadata": {
        "colab": {
          "base_uri": "https://localhost:8080/"
        },
        "id": "XkbLhil0kyUz",
        "outputId": "ec3794ff-0ef2-464d-985a-636a39010f41"
      },
      "outputs": [
        {
          "output_type": "stream",
          "name": "stdout",
          "text": [
            "Drive already mounted at /content/gdrive; to attempt to forcibly remount, call drive.mount(\"/content/gdrive\", force_remount=True).\n"
          ]
        }
      ],
      "source": [
        "import tensorflow as tf\n",
        "import matplotlib.pyplot as plt\n",
        "import numpy as np\n",
        "from keras.preprocessing.image import ImageDataGenerator\n",
        "\n",
        "from google.colab import drive\n",
        "drive.mount(\"/content/gdrive\")"
      ]
    },
    {
      "cell_type": "code",
      "execution_count": null,
      "metadata": {
        "id": "QCGJ3UhjZgd1"
      },
      "outputs": [],
      "source": [
        "from keras.models import load_model\n",
        "\n",
        "# Checkpoints\n",
        "checkpoint_filepath = '/content/gdrive/MyDrive/Colab Notebooks/Belgian Traffic Sign Best Model/my_belgian_traffic_signs.hdf5'\n",
        "\n",
        "best_model = load_model(checkpoint_filepath)"
      ]
    },
    {
      "cell_type": "code",
      "execution_count": null,
      "metadata": {
        "id": "7p8aqlMclIsH"
      },
      "outputs": [],
      "source": [
        "import zipfile\n",
        "local_zip = '/content/gdrive/MyDrive/imagedb_btsd.zip'\n",
        "zip_ref = zipfile.ZipFile(local_zip, 'r')\n",
        "zip_ref.extractall('/content')\n",
        "zip_ref.close()"
      ]
    },
    {
      "cell_type": "code",
      "execution_count": null,
      "metadata": {
        "id": "ZLAtRT5ylIsI"
      },
      "outputs": [],
      "source": [
        "train_path = '/content/imagedb_btsd/imagedb'\n",
        "test_path = '/content/imagedb_btsd/imagedb_test'"
      ]
    },
    {
      "cell_type": "code",
      "execution_count": null,
      "metadata": {
        "id": "MGepOwctl0G9"
      },
      "outputs": [],
      "source": [
        "batch_size = 64\n",
        "epochs = 250\n",
        "IMG_HEIGHT = 256\n",
        "IMG_WIDTH = 256\n",
        "IMG_COLOR = 3\n",
        "num_of_classes = 34"
      ]
    },
    {
      "cell_type": "code",
      "execution_count": null,
      "metadata": {
        "colab": {
          "base_uri": "https://localhost:8080/"
        },
        "id": "dRKzhDRblIsJ",
        "outputId": "94f32f9b-0bbd-497d-cd64-6adcf7544a50"
      },
      "outputs": [
        {
          "output_type": "stream",
          "name": "stdout",
          "text": [
            "Found 2457 images belonging to 34 classes.\n",
            "Found 599 images belonging to 34 classes.\n",
            "Found 2149 images belonging to 34 classes.\n"
          ]
        }
      ],
      "source": [
        "rescale = 1./255\n",
        "\n",
        "train_image_generator = ImageDataGenerator(rescale=rescale, \n",
        "                                           validation_split=0.2,\n",
        "                                           width_shift_range=0.1, \n",
        "                                           height_shift_range=0.1, \n",
        "                                           horizontal_flip=True, \n",
        "                                           rotation_range=15,\n",
        "                                           zoom_range=0.1)\n",
        "\n",
        "test_image_generator = ImageDataGenerator(rescale=rescale)\n",
        "\n",
        "train_data_gen = train_image_generator.flow_from_directory(\n",
        "        directory=train_path,\n",
        "        target_size=(IMG_HEIGHT, IMG_WIDTH),\n",
        "        batch_size=batch_size,\n",
        "        class_mode='categorical',\n",
        "        subset='training')\n",
        "\n",
        "val_data_gen = train_image_generator.flow_from_directory(\n",
        "        directory=train_path,\n",
        "        target_size=(IMG_HEIGHT, IMG_WIDTH),\n",
        "        batch_size=batch_size,\n",
        "        class_mode='categorical',\n",
        "        subset='validation')\n",
        "\n",
        "test_data_gen = test_image_generator.flow_from_directory(\n",
        "        directory=test_path, \n",
        "        target_size=(IMG_HEIGHT, IMG_WIDTH),\n",
        "        batch_size=batch_size,\n",
        "        class_mode='categorical',\n",
        "        shuffle=False)"
      ]
    },
    {
      "cell_type": "code",
      "execution_count": null,
      "metadata": {
        "colab": {
          "base_uri": "https://localhost:8080/"
        },
        "id": "vUQLRgtgoyq5",
        "outputId": "70a6fa66-4bf8-4146-9247-bf39d1025b0c"
      },
      "outputs": [
        {
          "output_type": "stream",
          "name": "stdout",
          "text": [
            "Model: \"sequential\"\n",
            "_________________________________________________________________\n",
            " Layer (type)                Output Shape              Param #   \n",
            "=================================================================\n",
            " conv2d (Conv2D)             (None, 254, 254, 32)      896       \n",
            "                                                                 \n",
            " conv2d_1 (Conv2D)           (None, 252, 252, 32)      9248      \n",
            "                                                                 \n",
            " conv2d_2 (Conv2D)           (None, 250, 250, 32)      9248      \n",
            "                                                                 \n",
            " max_pooling2d (MaxPooling2D  (None, 125, 125, 32)     0         \n",
            " )                                                               \n",
            "                                                                 \n",
            " conv2d_3 (Conv2D)           (None, 123, 123, 64)      18496     \n",
            "                                                                 \n",
            " conv2d_4 (Conv2D)           (None, 121, 121, 64)      36928     \n",
            "                                                                 \n",
            " conv2d_5 (Conv2D)           (None, 119, 119, 64)      36928     \n",
            "                                                                 \n",
            " max_pooling2d_1 (MaxPooling  (None, 59, 59, 64)       0         \n",
            " 2D)                                                             \n",
            "                                                                 \n",
            " conv2d_6 (Conv2D)           (None, 57, 57, 128)       73856     \n",
            "                                                                 \n",
            " conv2d_7 (Conv2D)           (None, 55, 55, 128)       147584    \n",
            "                                                                 \n",
            " conv2d_8 (Conv2D)           (None, 53, 53, 128)       147584    \n",
            "                                                                 \n",
            " max_pooling2d_2 (MaxPooling  (None, 26, 26, 128)      0         \n",
            " 2D)                                                             \n",
            "                                                                 \n",
            " conv2d_9 (Conv2D)           (None, 24, 24, 256)       295168    \n",
            "                                                                 \n",
            " conv2d_10 (Conv2D)          (None, 22, 22, 256)       590080    \n",
            "                                                                 \n",
            " conv2d_11 (Conv2D)          (None, 20, 20, 256)       590080    \n",
            "                                                                 \n",
            " max_pooling2d_3 (MaxPooling  (None, 10, 10, 256)      0         \n",
            " 2D)                                                             \n",
            "                                                                 \n",
            " flatten (Flatten)           (None, 25600)             0         \n",
            "                                                                 \n",
            " dense (Dense)               (None, 34)                870434    \n",
            "                                                                 \n",
            "=================================================================\n",
            "Total params: 2,826,530\n",
            "Trainable params: 2,826,530\n",
            "Non-trainable params: 0\n",
            "_________________________________________________________________\n"
          ]
        }
      ],
      "source": [
        "best_model.summary()"
      ]
    },
    {
      "cell_type": "code",
      "execution_count": null,
      "metadata": {
        "colab": {
          "base_uri": "https://localhost:8080/"
        },
        "id": "1k59T9JSo2aN",
        "outputId": "47815059-d3ca-434f-e362-6073b23913ce"
      },
      "outputs": [
        {
          "output_type": "stream",
          "name": "stdout",
          "text": [
            "Trainable params: 2826530\n",
            "Non trainable params: 0\n"
          ]
        }
      ],
      "source": [
        "from keras.utils.layer_utils import count_params\n",
        "\n",
        "trainable_params = count_params(best_model.trainable_weights)\n",
        "non_trainable_params = count_params(best_model.non_trainable_weights)\n",
        "print(\"Trainable params:\", trainable_params)\n",
        "print(\"Non trainable params:\", non_trainable_params)"
      ]
    },
    {
      "cell_type": "code",
      "execution_count": null,
      "metadata": {
        "colab": {
          "base_uri": "https://localhost:8080/"
        },
        "id": "8t06adEPoky2",
        "outputId": "e08cea4a-8572-413e-ed69-3702f8242285"
      },
      "outputs": [
        {
          "output_type": "stream",
          "name": "stdout",
          "text": [
            "39/39 - 39s - loss: 0.0119 - accuracy: 0.9959 - 39s/epoch - 997ms/step\n",
            "Train accuracy: 99.59%\n"
          ]
        }
      ],
      "source": [
        "train_loss, train_acc = best_model.evaluate(train_data_gen, verbose=2)\n",
        "print(\"Train accuracy: \" + \"{:.2f}\".format(train_acc*100) + \"%\")"
      ]
    },
    {
      "cell_type": "code",
      "execution_count": null,
      "metadata": {
        "colab": {
          "base_uri": "https://localhost:8080/"
        },
        "id": "W-ByMK9sZwi4",
        "outputId": "4d039eed-99c6-44a8-e39e-2e59b9235ee6"
      },
      "outputs": [
        {
          "output_type": "stream",
          "name": "stdout",
          "text": [
            "34/34 - 9s - loss: 0.1270 - accuracy: 0.9828 - 9s/epoch - 266ms/step\n",
            "Test accuracy: 98.28%\n"
          ]
        }
      ],
      "source": [
        "test_loss, test_acc = best_model.evaluate(test_data_gen, verbose=2)\n",
        "print(\"Test accuracy: \" + \"{:.2f}\".format(test_acc*100) + \"%\")"
      ]
    },
    {
      "cell_type": "markdown",
      "metadata": {
        "id": "uyPDxQK2jn5o"
      },
      "source": [
        "## Pretrained model"
      ]
    },
    {
      "cell_type": "markdown",
      "metadata": {
        "id": "keT0cEMmmMZ1"
      },
      "source": [
        "### Train the model"
      ]
    },
    {
      "cell_type": "code",
      "execution_count": null,
      "metadata": {
        "colab": {
          "base_uri": "https://localhost:8080/"
        },
        "id": "wf1AVZ9CnnlQ",
        "outputId": "a5fffed9-c3a6-40b5-8e46-41969f589c35"
      },
      "outputs": [
        {
          "output_type": "stream",
          "name": "stdout",
          "text": [
            "Mounted at /content/gdrive\n"
          ]
        }
      ],
      "source": [
        "import tensorflow as tf\n",
        "import matplotlib.pyplot as plt\n",
        "import numpy as np\n",
        "from keras.preprocessing.image import ImageDataGenerator\n",
        "\n",
        "from google.colab import drive\n",
        "drive.mount(\"/content/gdrive\")"
      ]
    },
    {
      "cell_type": "code",
      "execution_count": null,
      "metadata": {
        "id": "03E9lG76nnlW"
      },
      "outputs": [],
      "source": [
        "import zipfile\n",
        "local_zip = '/content/gdrive/MyDrive/imagedb_btsd.zip'\n",
        "zip_ref = zipfile.ZipFile(local_zip, 'r')\n",
        "zip_ref.extractall('/content')\n",
        "zip_ref.close()"
      ]
    },
    {
      "cell_type": "code",
      "execution_count": null,
      "metadata": {
        "id": "s-guYJ4ZnnlW"
      },
      "outputs": [],
      "source": [
        "train_path = '/content/imagedb_btsd/imagedb'\n",
        "test_path = '/content/imagedb_btsd/imagedb_test'"
      ]
    },
    {
      "cell_type": "code",
      "execution_count": null,
      "metadata": {
        "id": "cGcmDE7hnnlX"
      },
      "outputs": [],
      "source": [
        "batch_size = 64\n",
        "epochs = 250\n",
        "IMG_HEIGHT = 256\n",
        "IMG_WIDTH = 256\n",
        "IMG_COLOR = 3\n",
        "num_of_classes = 34"
      ]
    },
    {
      "cell_type": "code",
      "execution_count": null,
      "metadata": {
        "id": "mDasYLhNnnlX"
      },
      "outputs": [],
      "source": [
        "from keras.callbacks import EarlyStopping\n",
        "from keras.callbacks import ModelCheckpoint\n",
        "\n",
        "# Early stopping\n",
        "early_stopping = EarlyStopping(monitor='val_loss', mode='min', restore_best_weights=True, patience=25, verbose=1)\n",
        "\n",
        "# Checkpoints\n",
        "checkpoint_filepath = '/content/gdrive/MyDrive/Colab Notebooks/Belgian Traffic Sign Best Model Pretrained/my_belgian_traffic_signs.hdf5'\n",
        "\n",
        "model_checkpoint = ModelCheckpoint(filepath=checkpoint_filepath, monitor='val_loss', mode='min', save_best_only=True)\n",
        "\n",
        "#Scheduler\n",
        "reduce_lr = tf.keras.callbacks.ReduceLROnPlateau(monitor='val_loss', factor=0.5, patience=5, min_lr=1e-6)"
      ]
    },
    {
      "cell_type": "code",
      "execution_count": null,
      "metadata": {
        "colab": {
          "base_uri": "https://localhost:8080/"
        },
        "id": "GOfsnWVonnlX",
        "outputId": "022cf001-84f0-4b66-d240-560f5fb75049"
      },
      "outputs": [
        {
          "output_type": "stream",
          "name": "stdout",
          "text": [
            "Found 2457 images belonging to 34 classes.\n",
            "Found 599 images belonging to 34 classes.\n",
            "Found 2149 images belonging to 34 classes.\n"
          ]
        }
      ],
      "source": [
        "rescale = 1./255\n",
        "\n",
        "train_image_generator = ImageDataGenerator(rescale=rescale, \n",
        "                                           validation_split=0.2,\n",
        "                                           width_shift_range=0.1, \n",
        "                                           height_shift_range=0.1, \n",
        "                                           horizontal_flip=True, \n",
        "                                           rotation_range=15,\n",
        "                                           zoom_range=0.1,\n",
        "                                           preprocessing_function=tf.keras.applications.resnet50.preprocess_input)\n",
        "\n",
        "test_image_generator = ImageDataGenerator(rescale=rescale, preprocessing_function=tf.keras.applications.resnet50.preprocess_input)\n",
        "\n",
        "train_data_gen = train_image_generator.flow_from_directory(\n",
        "        directory=train_path,\n",
        "        target_size=(IMG_HEIGHT, IMG_WIDTH),\n",
        "        batch_size=batch_size,\n",
        "        class_mode='categorical',\n",
        "        subset='training')\n",
        "\n",
        "val_data_gen = train_image_generator.flow_from_directory(\n",
        "        directory=train_path,\n",
        "        target_size=(IMG_HEIGHT, IMG_WIDTH),\n",
        "        batch_size=batch_size,\n",
        "        class_mode='categorical',\n",
        "        subset='validation')\n",
        "\n",
        "test_data_gen = test_image_generator.flow_from_directory(\n",
        "        directory=test_path, \n",
        "        target_size=(IMG_HEIGHT, IMG_WIDTH),\n",
        "        batch_size=batch_size,\n",
        "        class_mode='categorical',\n",
        "        shuffle=False)"
      ]
    },
    {
      "cell_type": "code",
      "execution_count": null,
      "metadata": {
        "id": "0K896nqZnnlY"
      },
      "outputs": [],
      "source": [
        "import seaborn as sns\n",
        "from sklearn.metrics import confusion_matrix\n",
        "\n",
        "def plot_diagrams(history, h=20, w=8):\n",
        "    epochs = len(history.history['loss'])\n",
        "    acc = history.history['accuracy']\n",
        "    val_acc = history.history['val_accuracy']\n",
        "\n",
        "    loss = history.history['loss']\n",
        "    val_loss = history.history['val_loss']\n",
        "\n",
        "    epochs_range = range(epochs)\n",
        "\n",
        "    plt.figure(figsize=(h, w))\n",
        "    plt.subplot(1, 2, 1)\n",
        "    plt.plot(epochs_range, acc, label='Training Accuracy')\n",
        "    plt.plot(epochs_range, val_acc, label='Validation Accuracy')\n",
        "    plt.xlabel('Epoch')\n",
        "    plt.ylabel('Accuracy')\n",
        "    plt.legend(loc='lower right')\n",
        "    plt.title('Training and Validation Accuracy')\n",
        "\n",
        "    plt.subplot(1, 2, 2)\n",
        "    plt.plot(epochs_range, loss, label='Training Loss')\n",
        "    plt.plot(epochs_range, val_loss, label='Validation Loss')\n",
        "    plt.xlabel('Epoch')\n",
        "    plt.ylabel('Loss')\n",
        "    plt.legend(loc='upper right')\n",
        "    plt.title('Training and Validation Loss')\n",
        "    plt.show()"
      ]
    },
    {
      "cell_type": "code",
      "execution_count": null,
      "metadata": {
        "colab": {
          "base_uri": "https://localhost:8080/"
        },
        "id": "w-2Gsgr3qPrO",
        "outputId": "d4c7f3ad-5ed7-472f-c764-5eb5ca9b0349"
      },
      "outputs": [
        {
          "output_type": "stream",
          "name": "stdout",
          "text": [
            "Model: \"resnet50\"\n",
            "__________________________________________________________________________________________________\n",
            " Layer (type)                   Output Shape         Param #     Connected to                     \n",
            "==================================================================================================\n",
            " input_4 (InputLayer)           [(None, 256, 256, 3  0           []                               \n",
            "                                )]                                                                \n",
            "                                                                                                  \n",
            " conv1_pad (ZeroPadding2D)      (None, 262, 262, 3)  0           ['input_4[0][0]']                \n",
            "                                                                                                  \n",
            " conv1_conv (Conv2D)            (None, 128, 128, 64  9472        ['conv1_pad[0][0]']              \n",
            "                                )                                                                 \n",
            "                                                                                                  \n",
            " conv1_bn (BatchNormalization)  (None, 128, 128, 64  256         ['conv1_conv[0][0]']             \n",
            "                                )                                                                 \n",
            "                                                                                                  \n",
            " conv1_relu (Activation)        (None, 128, 128, 64  0           ['conv1_bn[0][0]']               \n",
            "                                )                                                                 \n",
            "                                                                                                  \n",
            " pool1_pad (ZeroPadding2D)      (None, 130, 130, 64  0           ['conv1_relu[0][0]']             \n",
            "                                )                                                                 \n",
            "                                                                                                  \n",
            " pool1_pool (MaxPooling2D)      (None, 64, 64, 64)   0           ['pool1_pad[0][0]']              \n",
            "                                                                                                  \n",
            " conv2_block1_1_conv (Conv2D)   (None, 64, 64, 64)   4160        ['pool1_pool[0][0]']             \n",
            "                                                                                                  \n",
            " conv2_block1_1_bn (BatchNormal  (None, 64, 64, 64)  256         ['conv2_block1_1_conv[0][0]']    \n",
            " ization)                                                                                         \n",
            "                                                                                                  \n",
            " conv2_block1_1_relu (Activatio  (None, 64, 64, 64)  0           ['conv2_block1_1_bn[0][0]']      \n",
            " n)                                                                                               \n",
            "                                                                                                  \n",
            " conv2_block1_2_conv (Conv2D)   (None, 64, 64, 64)   36928       ['conv2_block1_1_relu[0][0]']    \n",
            "                                                                                                  \n",
            " conv2_block1_2_bn (BatchNormal  (None, 64, 64, 64)  256         ['conv2_block1_2_conv[0][0]']    \n",
            " ization)                                                                                         \n",
            "                                                                                                  \n",
            " conv2_block1_2_relu (Activatio  (None, 64, 64, 64)  0           ['conv2_block1_2_bn[0][0]']      \n",
            " n)                                                                                               \n",
            "                                                                                                  \n",
            " conv2_block1_0_conv (Conv2D)   (None, 64, 64, 256)  16640       ['pool1_pool[0][0]']             \n",
            "                                                                                                  \n",
            " conv2_block1_3_conv (Conv2D)   (None, 64, 64, 256)  16640       ['conv2_block1_2_relu[0][0]']    \n",
            "                                                                                                  \n",
            " conv2_block1_0_bn (BatchNormal  (None, 64, 64, 256)  1024       ['conv2_block1_0_conv[0][0]']    \n",
            " ization)                                                                                         \n",
            "                                                                                                  \n",
            " conv2_block1_3_bn (BatchNormal  (None, 64, 64, 256)  1024       ['conv2_block1_3_conv[0][0]']    \n",
            " ization)                                                                                         \n",
            "                                                                                                  \n",
            " conv2_block1_add (Add)         (None, 64, 64, 256)  0           ['conv2_block1_0_bn[0][0]',      \n",
            "                                                                  'conv2_block1_3_bn[0][0]']      \n",
            "                                                                                                  \n",
            " conv2_block1_out (Activation)  (None, 64, 64, 256)  0           ['conv2_block1_add[0][0]']       \n",
            "                                                                                                  \n",
            " conv2_block2_1_conv (Conv2D)   (None, 64, 64, 64)   16448       ['conv2_block1_out[0][0]']       \n",
            "                                                                                                  \n",
            " conv2_block2_1_bn (BatchNormal  (None, 64, 64, 64)  256         ['conv2_block2_1_conv[0][0]']    \n",
            " ization)                                                                                         \n",
            "                                                                                                  \n",
            " conv2_block2_1_relu (Activatio  (None, 64, 64, 64)  0           ['conv2_block2_1_bn[0][0]']      \n",
            " n)                                                                                               \n",
            "                                                                                                  \n",
            " conv2_block2_2_conv (Conv2D)   (None, 64, 64, 64)   36928       ['conv2_block2_1_relu[0][0]']    \n",
            "                                                                                                  \n",
            " conv2_block2_2_bn (BatchNormal  (None, 64, 64, 64)  256         ['conv2_block2_2_conv[0][0]']    \n",
            " ization)                                                                                         \n",
            "                                                                                                  \n",
            " conv2_block2_2_relu (Activatio  (None, 64, 64, 64)  0           ['conv2_block2_2_bn[0][0]']      \n",
            " n)                                                                                               \n",
            "                                                                                                  \n",
            " conv2_block2_3_conv (Conv2D)   (None, 64, 64, 256)  16640       ['conv2_block2_2_relu[0][0]']    \n",
            "                                                                                                  \n",
            " conv2_block2_3_bn (BatchNormal  (None, 64, 64, 256)  1024       ['conv2_block2_3_conv[0][0]']    \n",
            " ization)                                                                                         \n",
            "                                                                                                  \n",
            " conv2_block2_add (Add)         (None, 64, 64, 256)  0           ['conv2_block1_out[0][0]',       \n",
            "                                                                  'conv2_block2_3_bn[0][0]']      \n",
            "                                                                                                  \n",
            " conv2_block2_out (Activation)  (None, 64, 64, 256)  0           ['conv2_block2_add[0][0]']       \n",
            "                                                                                                  \n",
            " conv2_block3_1_conv (Conv2D)   (None, 64, 64, 64)   16448       ['conv2_block2_out[0][0]']       \n",
            "                                                                                                  \n",
            " conv2_block3_1_bn (BatchNormal  (None, 64, 64, 64)  256         ['conv2_block3_1_conv[0][0]']    \n",
            " ization)                                                                                         \n",
            "                                                                                                  \n",
            " conv2_block3_1_relu (Activatio  (None, 64, 64, 64)  0           ['conv2_block3_1_bn[0][0]']      \n",
            " n)                                                                                               \n",
            "                                                                                                  \n",
            " conv2_block3_2_conv (Conv2D)   (None, 64, 64, 64)   36928       ['conv2_block3_1_relu[0][0]']    \n",
            "                                                                                                  \n",
            " conv2_block3_2_bn (BatchNormal  (None, 64, 64, 64)  256         ['conv2_block3_2_conv[0][0]']    \n",
            " ization)                                                                                         \n",
            "                                                                                                  \n",
            " conv2_block3_2_relu (Activatio  (None, 64, 64, 64)  0           ['conv2_block3_2_bn[0][0]']      \n",
            " n)                                                                                               \n",
            "                                                                                                  \n",
            " conv2_block3_3_conv (Conv2D)   (None, 64, 64, 256)  16640       ['conv2_block3_2_relu[0][0]']    \n",
            "                                                                                                  \n",
            " conv2_block3_3_bn (BatchNormal  (None, 64, 64, 256)  1024       ['conv2_block3_3_conv[0][0]']    \n",
            " ization)                                                                                         \n",
            "                                                                                                  \n",
            " conv2_block3_add (Add)         (None, 64, 64, 256)  0           ['conv2_block2_out[0][0]',       \n",
            "                                                                  'conv2_block3_3_bn[0][0]']      \n",
            "                                                                                                  \n",
            " conv2_block3_out (Activation)  (None, 64, 64, 256)  0           ['conv2_block3_add[0][0]']       \n",
            "                                                                                                  \n",
            " conv3_block1_1_conv (Conv2D)   (None, 32, 32, 128)  32896       ['conv2_block3_out[0][0]']       \n",
            "                                                                                                  \n",
            " conv3_block1_1_bn (BatchNormal  (None, 32, 32, 128)  512        ['conv3_block1_1_conv[0][0]']    \n",
            " ization)                                                                                         \n",
            "                                                                                                  \n",
            " conv3_block1_1_relu (Activatio  (None, 32, 32, 128)  0          ['conv3_block1_1_bn[0][0]']      \n",
            " n)                                                                                               \n",
            "                                                                                                  \n",
            " conv3_block1_2_conv (Conv2D)   (None, 32, 32, 128)  147584      ['conv3_block1_1_relu[0][0]']    \n",
            "                                                                                                  \n",
            " conv3_block1_2_bn (BatchNormal  (None, 32, 32, 128)  512        ['conv3_block1_2_conv[0][0]']    \n",
            " ization)                                                                                         \n",
            "                                                                                                  \n",
            " conv3_block1_2_relu (Activatio  (None, 32, 32, 128)  0          ['conv3_block1_2_bn[0][0]']      \n",
            " n)                                                                                               \n",
            "                                                                                                  \n",
            " conv3_block1_0_conv (Conv2D)   (None, 32, 32, 512)  131584      ['conv2_block3_out[0][0]']       \n",
            "                                                                                                  \n",
            " conv3_block1_3_conv (Conv2D)   (None, 32, 32, 512)  66048       ['conv3_block1_2_relu[0][0]']    \n",
            "                                                                                                  \n",
            " conv3_block1_0_bn (BatchNormal  (None, 32, 32, 512)  2048       ['conv3_block1_0_conv[0][0]']    \n",
            " ization)                                                                                         \n",
            "                                                                                                  \n",
            " conv3_block1_3_bn (BatchNormal  (None, 32, 32, 512)  2048       ['conv3_block1_3_conv[0][0]']    \n",
            " ization)                                                                                         \n",
            "                                                                                                  \n",
            " conv3_block1_add (Add)         (None, 32, 32, 512)  0           ['conv3_block1_0_bn[0][0]',      \n",
            "                                                                  'conv3_block1_3_bn[0][0]']      \n",
            "                                                                                                  \n",
            " conv3_block1_out (Activation)  (None, 32, 32, 512)  0           ['conv3_block1_add[0][0]']       \n",
            "                                                                                                  \n",
            " conv3_block2_1_conv (Conv2D)   (None, 32, 32, 128)  65664       ['conv3_block1_out[0][0]']       \n",
            "                                                                                                  \n",
            " conv3_block2_1_bn (BatchNormal  (None, 32, 32, 128)  512        ['conv3_block2_1_conv[0][0]']    \n",
            " ization)                                                                                         \n",
            "                                                                                                  \n",
            " conv3_block2_1_relu (Activatio  (None, 32, 32, 128)  0          ['conv3_block2_1_bn[0][0]']      \n",
            " n)                                                                                               \n",
            "                                                                                                  \n",
            " conv3_block2_2_conv (Conv2D)   (None, 32, 32, 128)  147584      ['conv3_block2_1_relu[0][0]']    \n",
            "                                                                                                  \n",
            " conv3_block2_2_bn (BatchNormal  (None, 32, 32, 128)  512        ['conv3_block2_2_conv[0][0]']    \n",
            " ization)                                                                                         \n",
            "                                                                                                  \n",
            " conv3_block2_2_relu (Activatio  (None, 32, 32, 128)  0          ['conv3_block2_2_bn[0][0]']      \n",
            " n)                                                                                               \n",
            "                                                                                                  \n",
            " conv3_block2_3_conv (Conv2D)   (None, 32, 32, 512)  66048       ['conv3_block2_2_relu[0][0]']    \n",
            "                                                                                                  \n",
            " conv3_block2_3_bn (BatchNormal  (None, 32, 32, 512)  2048       ['conv3_block2_3_conv[0][0]']    \n",
            " ization)                                                                                         \n",
            "                                                                                                  \n",
            " conv3_block2_add (Add)         (None, 32, 32, 512)  0           ['conv3_block1_out[0][0]',       \n",
            "                                                                  'conv3_block2_3_bn[0][0]']      \n",
            "                                                                                                  \n",
            " conv3_block2_out (Activation)  (None, 32, 32, 512)  0           ['conv3_block2_add[0][0]']       \n",
            "                                                                                                  \n",
            " conv3_block3_1_conv (Conv2D)   (None, 32, 32, 128)  65664       ['conv3_block2_out[0][0]']       \n",
            "                                                                                                  \n",
            " conv3_block3_1_bn (BatchNormal  (None, 32, 32, 128)  512        ['conv3_block3_1_conv[0][0]']    \n",
            " ization)                                                                                         \n",
            "                                                                                                  \n",
            " conv3_block3_1_relu (Activatio  (None, 32, 32, 128)  0          ['conv3_block3_1_bn[0][0]']      \n",
            " n)                                                                                               \n",
            "                                                                                                  \n",
            " conv3_block3_2_conv (Conv2D)   (None, 32, 32, 128)  147584      ['conv3_block3_1_relu[0][0]']    \n",
            "                                                                                                  \n",
            " conv3_block3_2_bn (BatchNormal  (None, 32, 32, 128)  512        ['conv3_block3_2_conv[0][0]']    \n",
            " ization)                                                                                         \n",
            "                                                                                                  \n",
            " conv3_block3_2_relu (Activatio  (None, 32, 32, 128)  0          ['conv3_block3_2_bn[0][0]']      \n",
            " n)                                                                                               \n",
            "                                                                                                  \n",
            " conv3_block3_3_conv (Conv2D)   (None, 32, 32, 512)  66048       ['conv3_block3_2_relu[0][0]']    \n",
            "                                                                                                  \n",
            " conv3_block3_3_bn (BatchNormal  (None, 32, 32, 512)  2048       ['conv3_block3_3_conv[0][0]']    \n",
            " ization)                                                                                         \n",
            "                                                                                                  \n",
            " conv3_block3_add (Add)         (None, 32, 32, 512)  0           ['conv3_block2_out[0][0]',       \n",
            "                                                                  'conv3_block3_3_bn[0][0]']      \n",
            "                                                                                                  \n",
            " conv3_block3_out (Activation)  (None, 32, 32, 512)  0           ['conv3_block3_add[0][0]']       \n",
            "                                                                                                  \n",
            " conv3_block4_1_conv (Conv2D)   (None, 32, 32, 128)  65664       ['conv3_block3_out[0][0]']       \n",
            "                                                                                                  \n",
            " conv3_block4_1_bn (BatchNormal  (None, 32, 32, 128)  512        ['conv3_block4_1_conv[0][0]']    \n",
            " ization)                                                                                         \n",
            "                                                                                                  \n",
            " conv3_block4_1_relu (Activatio  (None, 32, 32, 128)  0          ['conv3_block4_1_bn[0][0]']      \n",
            " n)                                                                                               \n",
            "                                                                                                  \n",
            " conv3_block4_2_conv (Conv2D)   (None, 32, 32, 128)  147584      ['conv3_block4_1_relu[0][0]']    \n",
            "                                                                                                  \n",
            " conv3_block4_2_bn (BatchNormal  (None, 32, 32, 128)  512        ['conv3_block4_2_conv[0][0]']    \n",
            " ization)                                                                                         \n",
            "                                                                                                  \n",
            " conv3_block4_2_relu (Activatio  (None, 32, 32, 128)  0          ['conv3_block4_2_bn[0][0]']      \n",
            " n)                                                                                               \n",
            "                                                                                                  \n",
            " conv3_block4_3_conv (Conv2D)   (None, 32, 32, 512)  66048       ['conv3_block4_2_relu[0][0]']    \n",
            "                                                                                                  \n",
            " conv3_block4_3_bn (BatchNormal  (None, 32, 32, 512)  2048       ['conv3_block4_3_conv[0][0]']    \n",
            " ization)                                                                                         \n",
            "                                                                                                  \n",
            " conv3_block4_add (Add)         (None, 32, 32, 512)  0           ['conv3_block3_out[0][0]',       \n",
            "                                                                  'conv3_block4_3_bn[0][0]']      \n",
            "                                                                                                  \n",
            " conv3_block4_out (Activation)  (None, 32, 32, 512)  0           ['conv3_block4_add[0][0]']       \n",
            "                                                                                                  \n",
            " conv4_block1_1_conv (Conv2D)   (None, 16, 16, 256)  131328      ['conv3_block4_out[0][0]']       \n",
            "                                                                                                  \n",
            " conv4_block1_1_bn (BatchNormal  (None, 16, 16, 256)  1024       ['conv4_block1_1_conv[0][0]']    \n",
            " ization)                                                                                         \n",
            "                                                                                                  \n",
            " conv4_block1_1_relu (Activatio  (None, 16, 16, 256)  0          ['conv4_block1_1_bn[0][0]']      \n",
            " n)                                                                                               \n",
            "                                                                                                  \n",
            " conv4_block1_2_conv (Conv2D)   (None, 16, 16, 256)  590080      ['conv4_block1_1_relu[0][0]']    \n",
            "                                                                                                  \n",
            " conv4_block1_2_bn (BatchNormal  (None, 16, 16, 256)  1024       ['conv4_block1_2_conv[0][0]']    \n",
            " ization)                                                                                         \n",
            "                                                                                                  \n",
            " conv4_block1_2_relu (Activatio  (None, 16, 16, 256)  0          ['conv4_block1_2_bn[0][0]']      \n",
            " n)                                                                                               \n",
            "                                                                                                  \n",
            " conv4_block1_0_conv (Conv2D)   (None, 16, 16, 1024  525312      ['conv3_block4_out[0][0]']       \n",
            "                                )                                                                 \n",
            "                                                                                                  \n",
            " conv4_block1_3_conv (Conv2D)   (None, 16, 16, 1024  263168      ['conv4_block1_2_relu[0][0]']    \n",
            "                                )                                                                 \n",
            "                                                                                                  \n",
            " conv4_block1_0_bn (BatchNormal  (None, 16, 16, 1024  4096       ['conv4_block1_0_conv[0][0]']    \n",
            " ization)                       )                                                                 \n",
            "                                                                                                  \n",
            " conv4_block1_3_bn (BatchNormal  (None, 16, 16, 1024  4096       ['conv4_block1_3_conv[0][0]']    \n",
            " ization)                       )                                                                 \n",
            "                                                                                                  \n",
            " conv4_block1_add (Add)         (None, 16, 16, 1024  0           ['conv4_block1_0_bn[0][0]',      \n",
            "                                )                                 'conv4_block1_3_bn[0][0]']      \n",
            "                                                                                                  \n",
            " conv4_block1_out (Activation)  (None, 16, 16, 1024  0           ['conv4_block1_add[0][0]']       \n",
            "                                )                                                                 \n",
            "                                                                                                  \n",
            " conv4_block2_1_conv (Conv2D)   (None, 16, 16, 256)  262400      ['conv4_block1_out[0][0]']       \n",
            "                                                                                                  \n",
            " conv4_block2_1_bn (BatchNormal  (None, 16, 16, 256)  1024       ['conv4_block2_1_conv[0][0]']    \n",
            " ization)                                                                                         \n",
            "                                                                                                  \n",
            " conv4_block2_1_relu (Activatio  (None, 16, 16, 256)  0          ['conv4_block2_1_bn[0][0]']      \n",
            " n)                                                                                               \n",
            "                                                                                                  \n",
            " conv4_block2_2_conv (Conv2D)   (None, 16, 16, 256)  590080      ['conv4_block2_1_relu[0][0]']    \n",
            "                                                                                                  \n",
            " conv4_block2_2_bn (BatchNormal  (None, 16, 16, 256)  1024       ['conv4_block2_2_conv[0][0]']    \n",
            " ization)                                                                                         \n",
            "                                                                                                  \n",
            " conv4_block2_2_relu (Activatio  (None, 16, 16, 256)  0          ['conv4_block2_2_bn[0][0]']      \n",
            " n)                                                                                               \n",
            "                                                                                                  \n",
            " conv4_block2_3_conv (Conv2D)   (None, 16, 16, 1024  263168      ['conv4_block2_2_relu[0][0]']    \n",
            "                                )                                                                 \n",
            "                                                                                                  \n",
            " conv4_block2_3_bn (BatchNormal  (None, 16, 16, 1024  4096       ['conv4_block2_3_conv[0][0]']    \n",
            " ization)                       )                                                                 \n",
            "                                                                                                  \n",
            " conv4_block2_add (Add)         (None, 16, 16, 1024  0           ['conv4_block1_out[0][0]',       \n",
            "                                )                                 'conv4_block2_3_bn[0][0]']      \n",
            "                                                                                                  \n",
            " conv4_block2_out (Activation)  (None, 16, 16, 1024  0           ['conv4_block2_add[0][0]']       \n",
            "                                )                                                                 \n",
            "                                                                                                  \n",
            " conv4_block3_1_conv (Conv2D)   (None, 16, 16, 256)  262400      ['conv4_block2_out[0][0]']       \n",
            "                                                                                                  \n",
            " conv4_block3_1_bn (BatchNormal  (None, 16, 16, 256)  1024       ['conv4_block3_1_conv[0][0]']    \n",
            " ization)                                                                                         \n",
            "                                                                                                  \n",
            " conv4_block3_1_relu (Activatio  (None, 16, 16, 256)  0          ['conv4_block3_1_bn[0][0]']      \n",
            " n)                                                                                               \n",
            "                                                                                                  \n",
            " conv4_block3_2_conv (Conv2D)   (None, 16, 16, 256)  590080      ['conv4_block3_1_relu[0][0]']    \n",
            "                                                                                                  \n",
            " conv4_block3_2_bn (BatchNormal  (None, 16, 16, 256)  1024       ['conv4_block3_2_conv[0][0]']    \n",
            " ization)                                                                                         \n",
            "                                                                                                  \n",
            " conv4_block3_2_relu (Activatio  (None, 16, 16, 256)  0          ['conv4_block3_2_bn[0][0]']      \n",
            " n)                                                                                               \n",
            "                                                                                                  \n",
            " conv4_block3_3_conv (Conv2D)   (None, 16, 16, 1024  263168      ['conv4_block3_2_relu[0][0]']    \n",
            "                                )                                                                 \n",
            "                                                                                                  \n",
            " conv4_block3_3_bn (BatchNormal  (None, 16, 16, 1024  4096       ['conv4_block3_3_conv[0][0]']    \n",
            " ization)                       )                                                                 \n",
            "                                                                                                  \n",
            " conv4_block3_add (Add)         (None, 16, 16, 1024  0           ['conv4_block2_out[0][0]',       \n",
            "                                )                                 'conv4_block3_3_bn[0][0]']      \n",
            "                                                                                                  \n",
            " conv4_block3_out (Activation)  (None, 16, 16, 1024  0           ['conv4_block3_add[0][0]']       \n",
            "                                )                                                                 \n",
            "                                                                                                  \n",
            " conv4_block4_1_conv (Conv2D)   (None, 16, 16, 256)  262400      ['conv4_block3_out[0][0]']       \n",
            "                                                                                                  \n",
            " conv4_block4_1_bn (BatchNormal  (None, 16, 16, 256)  1024       ['conv4_block4_1_conv[0][0]']    \n",
            " ization)                                                                                         \n",
            "                                                                                                  \n",
            " conv4_block4_1_relu (Activatio  (None, 16, 16, 256)  0          ['conv4_block4_1_bn[0][0]']      \n",
            " n)                                                                                               \n",
            "                                                                                                  \n",
            " conv4_block4_2_conv (Conv2D)   (None, 16, 16, 256)  590080      ['conv4_block4_1_relu[0][0]']    \n",
            "                                                                                                  \n",
            " conv4_block4_2_bn (BatchNormal  (None, 16, 16, 256)  1024       ['conv4_block4_2_conv[0][0]']    \n",
            " ization)                                                                                         \n",
            "                                                                                                  \n",
            " conv4_block4_2_relu (Activatio  (None, 16, 16, 256)  0          ['conv4_block4_2_bn[0][0]']      \n",
            " n)                                                                                               \n",
            "                                                                                                  \n",
            " conv4_block4_3_conv (Conv2D)   (None, 16, 16, 1024  263168      ['conv4_block4_2_relu[0][0]']    \n",
            "                                )                                                                 \n",
            "                                                                                                  \n",
            " conv4_block4_3_bn (BatchNormal  (None, 16, 16, 1024  4096       ['conv4_block4_3_conv[0][0]']    \n",
            " ization)                       )                                                                 \n",
            "                                                                                                  \n",
            " conv4_block4_add (Add)         (None, 16, 16, 1024  0           ['conv4_block3_out[0][0]',       \n",
            "                                )                                 'conv4_block4_3_bn[0][0]']      \n",
            "                                                                                                  \n",
            " conv4_block4_out (Activation)  (None, 16, 16, 1024  0           ['conv4_block4_add[0][0]']       \n",
            "                                )                                                                 \n",
            "                                                                                                  \n",
            " conv4_block5_1_conv (Conv2D)   (None, 16, 16, 256)  262400      ['conv4_block4_out[0][0]']       \n",
            "                                                                                                  \n",
            " conv4_block5_1_bn (BatchNormal  (None, 16, 16, 256)  1024       ['conv4_block5_1_conv[0][0]']    \n",
            " ization)                                                                                         \n",
            "                                                                                                  \n",
            " conv4_block5_1_relu (Activatio  (None, 16, 16, 256)  0          ['conv4_block5_1_bn[0][0]']      \n",
            " n)                                                                                               \n",
            "                                                                                                  \n",
            " conv4_block5_2_conv (Conv2D)   (None, 16, 16, 256)  590080      ['conv4_block5_1_relu[0][0]']    \n",
            "                                                                                                  \n",
            " conv4_block5_2_bn (BatchNormal  (None, 16, 16, 256)  1024       ['conv4_block5_2_conv[0][0]']    \n",
            " ization)                                                                                         \n",
            "                                                                                                  \n",
            " conv4_block5_2_relu (Activatio  (None, 16, 16, 256)  0          ['conv4_block5_2_bn[0][0]']      \n",
            " n)                                                                                               \n",
            "                                                                                                  \n",
            " conv4_block5_3_conv (Conv2D)   (None, 16, 16, 1024  263168      ['conv4_block5_2_relu[0][0]']    \n",
            "                                )                                                                 \n",
            "                                                                                                  \n",
            " conv4_block5_3_bn (BatchNormal  (None, 16, 16, 1024  4096       ['conv4_block5_3_conv[0][0]']    \n",
            " ization)                       )                                                                 \n",
            "                                                                                                  \n",
            " conv4_block5_add (Add)         (None, 16, 16, 1024  0           ['conv4_block4_out[0][0]',       \n",
            "                                )                                 'conv4_block5_3_bn[0][0]']      \n",
            "                                                                                                  \n",
            " conv4_block5_out (Activation)  (None, 16, 16, 1024  0           ['conv4_block5_add[0][0]']       \n",
            "                                )                                                                 \n",
            "                                                                                                  \n",
            " conv4_block6_1_conv (Conv2D)   (None, 16, 16, 256)  262400      ['conv4_block5_out[0][0]']       \n",
            "                                                                                                  \n",
            " conv4_block6_1_bn (BatchNormal  (None, 16, 16, 256)  1024       ['conv4_block6_1_conv[0][0]']    \n",
            " ization)                                                                                         \n",
            "                                                                                                  \n",
            " conv4_block6_1_relu (Activatio  (None, 16, 16, 256)  0          ['conv4_block6_1_bn[0][0]']      \n",
            " n)                                                                                               \n",
            "                                                                                                  \n",
            " conv4_block6_2_conv (Conv2D)   (None, 16, 16, 256)  590080      ['conv4_block6_1_relu[0][0]']    \n",
            "                                                                                                  \n",
            " conv4_block6_2_bn (BatchNormal  (None, 16, 16, 256)  1024       ['conv4_block6_2_conv[0][0]']    \n",
            " ization)                                                                                         \n",
            "                                                                                                  \n",
            " conv4_block6_2_relu (Activatio  (None, 16, 16, 256)  0          ['conv4_block6_2_bn[0][0]']      \n",
            " n)                                                                                               \n",
            "                                                                                                  \n",
            " conv4_block6_3_conv (Conv2D)   (None, 16, 16, 1024  263168      ['conv4_block6_2_relu[0][0]']    \n",
            "                                )                                                                 \n",
            "                                                                                                  \n",
            " conv4_block6_3_bn (BatchNormal  (None, 16, 16, 1024  4096       ['conv4_block6_3_conv[0][0]']    \n",
            " ization)                       )                                                                 \n",
            "                                                                                                  \n",
            " conv4_block6_add (Add)         (None, 16, 16, 1024  0           ['conv4_block5_out[0][0]',       \n",
            "                                )                                 'conv4_block6_3_bn[0][0]']      \n",
            "                                                                                                  \n",
            " conv4_block6_out (Activation)  (None, 16, 16, 1024  0           ['conv4_block6_add[0][0]']       \n",
            "                                )                                                                 \n",
            "                                                                                                  \n",
            " conv5_block1_1_conv (Conv2D)   (None, 8, 8, 512)    524800      ['conv4_block6_out[0][0]']       \n",
            "                                                                                                  \n",
            " conv5_block1_1_bn (BatchNormal  (None, 8, 8, 512)   2048        ['conv5_block1_1_conv[0][0]']    \n",
            " ization)                                                                                         \n",
            "                                                                                                  \n",
            " conv5_block1_1_relu (Activatio  (None, 8, 8, 512)   0           ['conv5_block1_1_bn[0][0]']      \n",
            " n)                                                                                               \n",
            "                                                                                                  \n",
            " conv5_block1_2_conv (Conv2D)   (None, 8, 8, 512)    2359808     ['conv5_block1_1_relu[0][0]']    \n",
            "                                                                                                  \n",
            " conv5_block1_2_bn (BatchNormal  (None, 8, 8, 512)   2048        ['conv5_block1_2_conv[0][0]']    \n",
            " ization)                                                                                         \n",
            "                                                                                                  \n",
            " conv5_block1_2_relu (Activatio  (None, 8, 8, 512)   0           ['conv5_block1_2_bn[0][0]']      \n",
            " n)                                                                                               \n",
            "                                                                                                  \n",
            " conv5_block1_0_conv (Conv2D)   (None, 8, 8, 2048)   2099200     ['conv4_block6_out[0][0]']       \n",
            "                                                                                                  \n",
            " conv5_block1_3_conv (Conv2D)   (None, 8, 8, 2048)   1050624     ['conv5_block1_2_relu[0][0]']    \n",
            "                                                                                                  \n",
            " conv5_block1_0_bn (BatchNormal  (None, 8, 8, 2048)  8192        ['conv5_block1_0_conv[0][0]']    \n",
            " ization)                                                                                         \n",
            "                                                                                                  \n",
            " conv5_block1_3_bn (BatchNormal  (None, 8, 8, 2048)  8192        ['conv5_block1_3_conv[0][0]']    \n",
            " ization)                                                                                         \n",
            "                                                                                                  \n",
            " conv5_block1_add (Add)         (None, 8, 8, 2048)   0           ['conv5_block1_0_bn[0][0]',      \n",
            "                                                                  'conv5_block1_3_bn[0][0]']      \n",
            "                                                                                                  \n",
            " conv5_block1_out (Activation)  (None, 8, 8, 2048)   0           ['conv5_block1_add[0][0]']       \n",
            "                                                                                                  \n",
            " conv5_block2_1_conv (Conv2D)   (None, 8, 8, 512)    1049088     ['conv5_block1_out[0][0]']       \n",
            "                                                                                                  \n",
            " conv5_block2_1_bn (BatchNormal  (None, 8, 8, 512)   2048        ['conv5_block2_1_conv[0][0]']    \n",
            " ization)                                                                                         \n",
            "                                                                                                  \n",
            " conv5_block2_1_relu (Activatio  (None, 8, 8, 512)   0           ['conv5_block2_1_bn[0][0]']      \n",
            " n)                                                                                               \n",
            "                                                                                                  \n",
            " conv5_block2_2_conv (Conv2D)   (None, 8, 8, 512)    2359808     ['conv5_block2_1_relu[0][0]']    \n",
            "                                                                                                  \n",
            " conv5_block2_2_bn (BatchNormal  (None, 8, 8, 512)   2048        ['conv5_block2_2_conv[0][0]']    \n",
            " ization)                                                                                         \n",
            "                                                                                                  \n",
            " conv5_block2_2_relu (Activatio  (None, 8, 8, 512)   0           ['conv5_block2_2_bn[0][0]']      \n",
            " n)                                                                                               \n",
            "                                                                                                  \n",
            " conv5_block2_3_conv (Conv2D)   (None, 8, 8, 2048)   1050624     ['conv5_block2_2_relu[0][0]']    \n",
            "                                                                                                  \n",
            " conv5_block2_3_bn (BatchNormal  (None, 8, 8, 2048)  8192        ['conv5_block2_3_conv[0][0]']    \n",
            " ization)                                                                                         \n",
            "                                                                                                  \n",
            " conv5_block2_add (Add)         (None, 8, 8, 2048)   0           ['conv5_block1_out[0][0]',       \n",
            "                                                                  'conv5_block2_3_bn[0][0]']      \n",
            "                                                                                                  \n",
            " conv5_block2_out (Activation)  (None, 8, 8, 2048)   0           ['conv5_block2_add[0][0]']       \n",
            "                                                                                                  \n",
            " conv5_block3_1_conv (Conv2D)   (None, 8, 8, 512)    1049088     ['conv5_block2_out[0][0]']       \n",
            "                                                                                                  \n",
            " conv5_block3_1_bn (BatchNormal  (None, 8, 8, 512)   2048        ['conv5_block3_1_conv[0][0]']    \n",
            " ization)                                                                                         \n",
            "                                                                                                  \n",
            " conv5_block3_1_relu (Activatio  (None, 8, 8, 512)   0           ['conv5_block3_1_bn[0][0]']      \n",
            " n)                                                                                               \n",
            "                                                                                                  \n",
            " conv5_block3_2_conv (Conv2D)   (None, 8, 8, 512)    2359808     ['conv5_block3_1_relu[0][0]']    \n",
            "                                                                                                  \n",
            " conv5_block3_2_bn (BatchNormal  (None, 8, 8, 512)   2048        ['conv5_block3_2_conv[0][0]']    \n",
            " ization)                                                                                         \n",
            "                                                                                                  \n",
            " conv5_block3_2_relu (Activatio  (None, 8, 8, 512)   0           ['conv5_block3_2_bn[0][0]']      \n",
            " n)                                                                                               \n",
            "                                                                                                  \n",
            " conv5_block3_3_conv (Conv2D)   (None, 8, 8, 2048)   1050624     ['conv5_block3_2_relu[0][0]']    \n",
            "                                                                                                  \n",
            " conv5_block3_3_bn (BatchNormal  (None, 8, 8, 2048)  8192        ['conv5_block3_3_conv[0][0]']    \n",
            " ization)                                                                                         \n",
            "                                                                                                  \n",
            " conv5_block3_add (Add)         (None, 8, 8, 2048)   0           ['conv5_block2_out[0][0]',       \n",
            "                                                                  'conv5_block3_3_bn[0][0]']      \n",
            "                                                                                                  \n",
            " conv5_block3_out (Activation)  (None, 8, 8, 2048)   0           ['conv5_block3_add[0][0]']       \n",
            "                                                                                                  \n",
            "==================================================================================================\n",
            "Total params: 23,587,712\n",
            "Trainable params: 23,534,592\n",
            "Non-trainable params: 53,120\n",
            "__________________________________________________________________________________________________\n"
          ]
        }
      ],
      "source": [
        "# Create the base model from the pre-trained model ResNet50\n",
        "base_model = tf.keras.applications.ResNet50(input_shape=(IMG_HEIGHT, IMG_WIDTH, IMG_COLOR),\n",
        "                                               include_top=False,\n",
        "                                               weights='imagenet')\n",
        "base_model.summary()"
      ]
    },
    {
      "cell_type": "code",
      "source": [
        "len(base_model.layers)"
      ],
      "metadata": {
        "colab": {
          "base_uri": "https://localhost:8080/"
        },
        "id": "7muUkiouA8wT",
        "outputId": "10e9fd2b-9dbb-44da-c985-83bc678f9e39"
      },
      "execution_count": null,
      "outputs": [
        {
          "output_type": "execute_result",
          "data": {
            "text/plain": [
              "175"
            ]
          },
          "metadata": {},
          "execution_count": 34
        }
      ]
    },
    {
      "cell_type": "code",
      "source": [
        "for i in range(len(base_model.layers)-50): \n",
        "  base_model.layers[i].trainable = False"
      ],
      "metadata": {
        "id": "f4f6Bz--A3aB"
      },
      "execution_count": null,
      "outputs": []
    },
    {
      "cell_type": "code",
      "source": [
        "base_model.summary()"
      ],
      "metadata": {
        "colab": {
          "base_uri": "https://localhost:8080/"
        },
        "id": "OGr_0u5sBZz4",
        "outputId": "14fd5eb7-3f3b-4f69-de89-4e550cf38e7a"
      },
      "execution_count": null,
      "outputs": [
        {
          "output_type": "stream",
          "name": "stdout",
          "text": [
            "Model: \"resnet50\"\n",
            "__________________________________________________________________________________________________\n",
            " Layer (type)                   Output Shape         Param #     Connected to                     \n",
            "==================================================================================================\n",
            " input_4 (InputLayer)           [(None, 256, 256, 3  0           []                               \n",
            "                                )]                                                                \n",
            "                                                                                                  \n",
            " conv1_pad (ZeroPadding2D)      (None, 262, 262, 3)  0           ['input_4[0][0]']                \n",
            "                                                                                                  \n",
            " conv1_conv (Conv2D)            (None, 128, 128, 64  9472        ['conv1_pad[0][0]']              \n",
            "                                )                                                                 \n",
            "                                                                                                  \n",
            " conv1_bn (BatchNormalization)  (None, 128, 128, 64  256         ['conv1_conv[0][0]']             \n",
            "                                )                                                                 \n",
            "                                                                                                  \n",
            " conv1_relu (Activation)        (None, 128, 128, 64  0           ['conv1_bn[0][0]']               \n",
            "                                )                                                                 \n",
            "                                                                                                  \n",
            " pool1_pad (ZeroPadding2D)      (None, 130, 130, 64  0           ['conv1_relu[0][0]']             \n",
            "                                )                                                                 \n",
            "                                                                                                  \n",
            " pool1_pool (MaxPooling2D)      (None, 64, 64, 64)   0           ['pool1_pad[0][0]']              \n",
            "                                                                                                  \n",
            " conv2_block1_1_conv (Conv2D)   (None, 64, 64, 64)   4160        ['pool1_pool[0][0]']             \n",
            "                                                                                                  \n",
            " conv2_block1_1_bn (BatchNormal  (None, 64, 64, 64)  256         ['conv2_block1_1_conv[0][0]']    \n",
            " ization)                                                                                         \n",
            "                                                                                                  \n",
            " conv2_block1_1_relu (Activatio  (None, 64, 64, 64)  0           ['conv2_block1_1_bn[0][0]']      \n",
            " n)                                                                                               \n",
            "                                                                                                  \n",
            " conv2_block1_2_conv (Conv2D)   (None, 64, 64, 64)   36928       ['conv2_block1_1_relu[0][0]']    \n",
            "                                                                                                  \n",
            " conv2_block1_2_bn (BatchNormal  (None, 64, 64, 64)  256         ['conv2_block1_2_conv[0][0]']    \n",
            " ization)                                                                                         \n",
            "                                                                                                  \n",
            " conv2_block1_2_relu (Activatio  (None, 64, 64, 64)  0           ['conv2_block1_2_bn[0][0]']      \n",
            " n)                                                                                               \n",
            "                                                                                                  \n",
            " conv2_block1_0_conv (Conv2D)   (None, 64, 64, 256)  16640       ['pool1_pool[0][0]']             \n",
            "                                                                                                  \n",
            " conv2_block1_3_conv (Conv2D)   (None, 64, 64, 256)  16640       ['conv2_block1_2_relu[0][0]']    \n",
            "                                                                                                  \n",
            " conv2_block1_0_bn (BatchNormal  (None, 64, 64, 256)  1024       ['conv2_block1_0_conv[0][0]']    \n",
            " ization)                                                                                         \n",
            "                                                                                                  \n",
            " conv2_block1_3_bn (BatchNormal  (None, 64, 64, 256)  1024       ['conv2_block1_3_conv[0][0]']    \n",
            " ization)                                                                                         \n",
            "                                                                                                  \n",
            " conv2_block1_add (Add)         (None, 64, 64, 256)  0           ['conv2_block1_0_bn[0][0]',      \n",
            "                                                                  'conv2_block1_3_bn[0][0]']      \n",
            "                                                                                                  \n",
            " conv2_block1_out (Activation)  (None, 64, 64, 256)  0           ['conv2_block1_add[0][0]']       \n",
            "                                                                                                  \n",
            " conv2_block2_1_conv (Conv2D)   (None, 64, 64, 64)   16448       ['conv2_block1_out[0][0]']       \n",
            "                                                                                                  \n",
            " conv2_block2_1_bn (BatchNormal  (None, 64, 64, 64)  256         ['conv2_block2_1_conv[0][0]']    \n",
            " ization)                                                                                         \n",
            "                                                                                                  \n",
            " conv2_block2_1_relu (Activatio  (None, 64, 64, 64)  0           ['conv2_block2_1_bn[0][0]']      \n",
            " n)                                                                                               \n",
            "                                                                                                  \n",
            " conv2_block2_2_conv (Conv2D)   (None, 64, 64, 64)   36928       ['conv2_block2_1_relu[0][0]']    \n",
            "                                                                                                  \n",
            " conv2_block2_2_bn (BatchNormal  (None, 64, 64, 64)  256         ['conv2_block2_2_conv[0][0]']    \n",
            " ization)                                                                                         \n",
            "                                                                                                  \n",
            " conv2_block2_2_relu (Activatio  (None, 64, 64, 64)  0           ['conv2_block2_2_bn[0][0]']      \n",
            " n)                                                                                               \n",
            "                                                                                                  \n",
            " conv2_block2_3_conv (Conv2D)   (None, 64, 64, 256)  16640       ['conv2_block2_2_relu[0][0]']    \n",
            "                                                                                                  \n",
            " conv2_block2_3_bn (BatchNormal  (None, 64, 64, 256)  1024       ['conv2_block2_3_conv[0][0]']    \n",
            " ization)                                                                                         \n",
            "                                                                                                  \n",
            " conv2_block2_add (Add)         (None, 64, 64, 256)  0           ['conv2_block1_out[0][0]',       \n",
            "                                                                  'conv2_block2_3_bn[0][0]']      \n",
            "                                                                                                  \n",
            " conv2_block2_out (Activation)  (None, 64, 64, 256)  0           ['conv2_block2_add[0][0]']       \n",
            "                                                                                                  \n",
            " conv2_block3_1_conv (Conv2D)   (None, 64, 64, 64)   16448       ['conv2_block2_out[0][0]']       \n",
            "                                                                                                  \n",
            " conv2_block3_1_bn (BatchNormal  (None, 64, 64, 64)  256         ['conv2_block3_1_conv[0][0]']    \n",
            " ization)                                                                                         \n",
            "                                                                                                  \n",
            " conv2_block3_1_relu (Activatio  (None, 64, 64, 64)  0           ['conv2_block3_1_bn[0][0]']      \n",
            " n)                                                                                               \n",
            "                                                                                                  \n",
            " conv2_block3_2_conv (Conv2D)   (None, 64, 64, 64)   36928       ['conv2_block3_1_relu[0][0]']    \n",
            "                                                                                                  \n",
            " conv2_block3_2_bn (BatchNormal  (None, 64, 64, 64)  256         ['conv2_block3_2_conv[0][0]']    \n",
            " ization)                                                                                         \n",
            "                                                                                                  \n",
            " conv2_block3_2_relu (Activatio  (None, 64, 64, 64)  0           ['conv2_block3_2_bn[0][0]']      \n",
            " n)                                                                                               \n",
            "                                                                                                  \n",
            " conv2_block3_3_conv (Conv2D)   (None, 64, 64, 256)  16640       ['conv2_block3_2_relu[0][0]']    \n",
            "                                                                                                  \n",
            " conv2_block3_3_bn (BatchNormal  (None, 64, 64, 256)  1024       ['conv2_block3_3_conv[0][0]']    \n",
            " ization)                                                                                         \n",
            "                                                                                                  \n",
            " conv2_block3_add (Add)         (None, 64, 64, 256)  0           ['conv2_block2_out[0][0]',       \n",
            "                                                                  'conv2_block3_3_bn[0][0]']      \n",
            "                                                                                                  \n",
            " conv2_block3_out (Activation)  (None, 64, 64, 256)  0           ['conv2_block3_add[0][0]']       \n",
            "                                                                                                  \n",
            " conv3_block1_1_conv (Conv2D)   (None, 32, 32, 128)  32896       ['conv2_block3_out[0][0]']       \n",
            "                                                                                                  \n",
            " conv3_block1_1_bn (BatchNormal  (None, 32, 32, 128)  512        ['conv3_block1_1_conv[0][0]']    \n",
            " ization)                                                                                         \n",
            "                                                                                                  \n",
            " conv3_block1_1_relu (Activatio  (None, 32, 32, 128)  0          ['conv3_block1_1_bn[0][0]']      \n",
            " n)                                                                                               \n",
            "                                                                                                  \n",
            " conv3_block1_2_conv (Conv2D)   (None, 32, 32, 128)  147584      ['conv3_block1_1_relu[0][0]']    \n",
            "                                                                                                  \n",
            " conv3_block1_2_bn (BatchNormal  (None, 32, 32, 128)  512        ['conv3_block1_2_conv[0][0]']    \n",
            " ization)                                                                                         \n",
            "                                                                                                  \n",
            " conv3_block1_2_relu (Activatio  (None, 32, 32, 128)  0          ['conv3_block1_2_bn[0][0]']      \n",
            " n)                                                                                               \n",
            "                                                                                                  \n",
            " conv3_block1_0_conv (Conv2D)   (None, 32, 32, 512)  131584      ['conv2_block3_out[0][0]']       \n",
            "                                                                                                  \n",
            " conv3_block1_3_conv (Conv2D)   (None, 32, 32, 512)  66048       ['conv3_block1_2_relu[0][0]']    \n",
            "                                                                                                  \n",
            " conv3_block1_0_bn (BatchNormal  (None, 32, 32, 512)  2048       ['conv3_block1_0_conv[0][0]']    \n",
            " ization)                                                                                         \n",
            "                                                                                                  \n",
            " conv3_block1_3_bn (BatchNormal  (None, 32, 32, 512)  2048       ['conv3_block1_3_conv[0][0]']    \n",
            " ization)                                                                                         \n",
            "                                                                                                  \n",
            " conv3_block1_add (Add)         (None, 32, 32, 512)  0           ['conv3_block1_0_bn[0][0]',      \n",
            "                                                                  'conv3_block1_3_bn[0][0]']      \n",
            "                                                                                                  \n",
            " conv3_block1_out (Activation)  (None, 32, 32, 512)  0           ['conv3_block1_add[0][0]']       \n",
            "                                                                                                  \n",
            " conv3_block2_1_conv (Conv2D)   (None, 32, 32, 128)  65664       ['conv3_block1_out[0][0]']       \n",
            "                                                                                                  \n",
            " conv3_block2_1_bn (BatchNormal  (None, 32, 32, 128)  512        ['conv3_block2_1_conv[0][0]']    \n",
            " ization)                                                                                         \n",
            "                                                                                                  \n",
            " conv3_block2_1_relu (Activatio  (None, 32, 32, 128)  0          ['conv3_block2_1_bn[0][0]']      \n",
            " n)                                                                                               \n",
            "                                                                                                  \n",
            " conv3_block2_2_conv (Conv2D)   (None, 32, 32, 128)  147584      ['conv3_block2_1_relu[0][0]']    \n",
            "                                                                                                  \n",
            " conv3_block2_2_bn (BatchNormal  (None, 32, 32, 128)  512        ['conv3_block2_2_conv[0][0]']    \n",
            " ization)                                                                                         \n",
            "                                                                                                  \n",
            " conv3_block2_2_relu (Activatio  (None, 32, 32, 128)  0          ['conv3_block2_2_bn[0][0]']      \n",
            " n)                                                                                               \n",
            "                                                                                                  \n",
            " conv3_block2_3_conv (Conv2D)   (None, 32, 32, 512)  66048       ['conv3_block2_2_relu[0][0]']    \n",
            "                                                                                                  \n",
            " conv3_block2_3_bn (BatchNormal  (None, 32, 32, 512)  2048       ['conv3_block2_3_conv[0][0]']    \n",
            " ization)                                                                                         \n",
            "                                                                                                  \n",
            " conv3_block2_add (Add)         (None, 32, 32, 512)  0           ['conv3_block1_out[0][0]',       \n",
            "                                                                  'conv3_block2_3_bn[0][0]']      \n",
            "                                                                                                  \n",
            " conv3_block2_out (Activation)  (None, 32, 32, 512)  0           ['conv3_block2_add[0][0]']       \n",
            "                                                                                                  \n",
            " conv3_block3_1_conv (Conv2D)   (None, 32, 32, 128)  65664       ['conv3_block2_out[0][0]']       \n",
            "                                                                                                  \n",
            " conv3_block3_1_bn (BatchNormal  (None, 32, 32, 128)  512        ['conv3_block3_1_conv[0][0]']    \n",
            " ization)                                                                                         \n",
            "                                                                                                  \n",
            " conv3_block3_1_relu (Activatio  (None, 32, 32, 128)  0          ['conv3_block3_1_bn[0][0]']      \n",
            " n)                                                                                               \n",
            "                                                                                                  \n",
            " conv3_block3_2_conv (Conv2D)   (None, 32, 32, 128)  147584      ['conv3_block3_1_relu[0][0]']    \n",
            "                                                                                                  \n",
            " conv3_block3_2_bn (BatchNormal  (None, 32, 32, 128)  512        ['conv3_block3_2_conv[0][0]']    \n",
            " ization)                                                                                         \n",
            "                                                                                                  \n",
            " conv3_block3_2_relu (Activatio  (None, 32, 32, 128)  0          ['conv3_block3_2_bn[0][0]']      \n",
            " n)                                                                                               \n",
            "                                                                                                  \n",
            " conv3_block3_3_conv (Conv2D)   (None, 32, 32, 512)  66048       ['conv3_block3_2_relu[0][0]']    \n",
            "                                                                                                  \n",
            " conv3_block3_3_bn (BatchNormal  (None, 32, 32, 512)  2048       ['conv3_block3_3_conv[0][0]']    \n",
            " ization)                                                                                         \n",
            "                                                                                                  \n",
            " conv3_block3_add (Add)         (None, 32, 32, 512)  0           ['conv3_block2_out[0][0]',       \n",
            "                                                                  'conv3_block3_3_bn[0][0]']      \n",
            "                                                                                                  \n",
            " conv3_block3_out (Activation)  (None, 32, 32, 512)  0           ['conv3_block3_add[0][0]']       \n",
            "                                                                                                  \n",
            " conv3_block4_1_conv (Conv2D)   (None, 32, 32, 128)  65664       ['conv3_block3_out[0][0]']       \n",
            "                                                                                                  \n",
            " conv3_block4_1_bn (BatchNormal  (None, 32, 32, 128)  512        ['conv3_block4_1_conv[0][0]']    \n",
            " ization)                                                                                         \n",
            "                                                                                                  \n",
            " conv3_block4_1_relu (Activatio  (None, 32, 32, 128)  0          ['conv3_block4_1_bn[0][0]']      \n",
            " n)                                                                                               \n",
            "                                                                                                  \n",
            " conv3_block4_2_conv (Conv2D)   (None, 32, 32, 128)  147584      ['conv3_block4_1_relu[0][0]']    \n",
            "                                                                                                  \n",
            " conv3_block4_2_bn (BatchNormal  (None, 32, 32, 128)  512        ['conv3_block4_2_conv[0][0]']    \n",
            " ization)                                                                                         \n",
            "                                                                                                  \n",
            " conv3_block4_2_relu (Activatio  (None, 32, 32, 128)  0          ['conv3_block4_2_bn[0][0]']      \n",
            " n)                                                                                               \n",
            "                                                                                                  \n",
            " conv3_block4_3_conv (Conv2D)   (None, 32, 32, 512)  66048       ['conv3_block4_2_relu[0][0]']    \n",
            "                                                                                                  \n",
            " conv3_block4_3_bn (BatchNormal  (None, 32, 32, 512)  2048       ['conv3_block4_3_conv[0][0]']    \n",
            " ization)                                                                                         \n",
            "                                                                                                  \n",
            " conv3_block4_add (Add)         (None, 32, 32, 512)  0           ['conv3_block3_out[0][0]',       \n",
            "                                                                  'conv3_block4_3_bn[0][0]']      \n",
            "                                                                                                  \n",
            " conv3_block4_out (Activation)  (None, 32, 32, 512)  0           ['conv3_block4_add[0][0]']       \n",
            "                                                                                                  \n",
            " conv4_block1_1_conv (Conv2D)   (None, 16, 16, 256)  131328      ['conv3_block4_out[0][0]']       \n",
            "                                                                                                  \n",
            " conv4_block1_1_bn (BatchNormal  (None, 16, 16, 256)  1024       ['conv4_block1_1_conv[0][0]']    \n",
            " ization)                                                                                         \n",
            "                                                                                                  \n",
            " conv4_block1_1_relu (Activatio  (None, 16, 16, 256)  0          ['conv4_block1_1_bn[0][0]']      \n",
            " n)                                                                                               \n",
            "                                                                                                  \n",
            " conv4_block1_2_conv (Conv2D)   (None, 16, 16, 256)  590080      ['conv4_block1_1_relu[0][0]']    \n",
            "                                                                                                  \n",
            " conv4_block1_2_bn (BatchNormal  (None, 16, 16, 256)  1024       ['conv4_block1_2_conv[0][0]']    \n",
            " ization)                                                                                         \n",
            "                                                                                                  \n",
            " conv4_block1_2_relu (Activatio  (None, 16, 16, 256)  0          ['conv4_block1_2_bn[0][0]']      \n",
            " n)                                                                                               \n",
            "                                                                                                  \n",
            " conv4_block1_0_conv (Conv2D)   (None, 16, 16, 1024  525312      ['conv3_block4_out[0][0]']       \n",
            "                                )                                                                 \n",
            "                                                                                                  \n",
            " conv4_block1_3_conv (Conv2D)   (None, 16, 16, 1024  263168      ['conv4_block1_2_relu[0][0]']    \n",
            "                                )                                                                 \n",
            "                                                                                                  \n",
            " conv4_block1_0_bn (BatchNormal  (None, 16, 16, 1024  4096       ['conv4_block1_0_conv[0][0]']    \n",
            " ization)                       )                                                                 \n",
            "                                                                                                  \n",
            " conv4_block1_3_bn (BatchNormal  (None, 16, 16, 1024  4096       ['conv4_block1_3_conv[0][0]']    \n",
            " ization)                       )                                                                 \n",
            "                                                                                                  \n",
            " conv4_block1_add (Add)         (None, 16, 16, 1024  0           ['conv4_block1_0_bn[0][0]',      \n",
            "                                )                                 'conv4_block1_3_bn[0][0]']      \n",
            "                                                                                                  \n",
            " conv4_block1_out (Activation)  (None, 16, 16, 1024  0           ['conv4_block1_add[0][0]']       \n",
            "                                )                                                                 \n",
            "                                                                                                  \n",
            " conv4_block2_1_conv (Conv2D)   (None, 16, 16, 256)  262400      ['conv4_block1_out[0][0]']       \n",
            "                                                                                                  \n",
            " conv4_block2_1_bn (BatchNormal  (None, 16, 16, 256)  1024       ['conv4_block2_1_conv[0][0]']    \n",
            " ization)                                                                                         \n",
            "                                                                                                  \n",
            " conv4_block2_1_relu (Activatio  (None, 16, 16, 256)  0          ['conv4_block2_1_bn[0][0]']      \n",
            " n)                                                                                               \n",
            "                                                                                                  \n",
            " conv4_block2_2_conv (Conv2D)   (None, 16, 16, 256)  590080      ['conv4_block2_1_relu[0][0]']    \n",
            "                                                                                                  \n",
            " conv4_block2_2_bn (BatchNormal  (None, 16, 16, 256)  1024       ['conv4_block2_2_conv[0][0]']    \n",
            " ization)                                                                                         \n",
            "                                                                                                  \n",
            " conv4_block2_2_relu (Activatio  (None, 16, 16, 256)  0          ['conv4_block2_2_bn[0][0]']      \n",
            " n)                                                                                               \n",
            "                                                                                                  \n",
            " conv4_block2_3_conv (Conv2D)   (None, 16, 16, 1024  263168      ['conv4_block2_2_relu[0][0]']    \n",
            "                                )                                                                 \n",
            "                                                                                                  \n",
            " conv4_block2_3_bn (BatchNormal  (None, 16, 16, 1024  4096       ['conv4_block2_3_conv[0][0]']    \n",
            " ization)                       )                                                                 \n",
            "                                                                                                  \n",
            " conv4_block2_add (Add)         (None, 16, 16, 1024  0           ['conv4_block1_out[0][0]',       \n",
            "                                )                                 'conv4_block2_3_bn[0][0]']      \n",
            "                                                                                                  \n",
            " conv4_block2_out (Activation)  (None, 16, 16, 1024  0           ['conv4_block2_add[0][0]']       \n",
            "                                )                                                                 \n",
            "                                                                                                  \n",
            " conv4_block3_1_conv (Conv2D)   (None, 16, 16, 256)  262400      ['conv4_block2_out[0][0]']       \n",
            "                                                                                                  \n",
            " conv4_block3_1_bn (BatchNormal  (None, 16, 16, 256)  1024       ['conv4_block3_1_conv[0][0]']    \n",
            " ization)                                                                                         \n",
            "                                                                                                  \n",
            " conv4_block3_1_relu (Activatio  (None, 16, 16, 256)  0          ['conv4_block3_1_bn[0][0]']      \n",
            " n)                                                                                               \n",
            "                                                                                                  \n",
            " conv4_block3_2_conv (Conv2D)   (None, 16, 16, 256)  590080      ['conv4_block3_1_relu[0][0]']    \n",
            "                                                                                                  \n",
            " conv4_block3_2_bn (BatchNormal  (None, 16, 16, 256)  1024       ['conv4_block3_2_conv[0][0]']    \n",
            " ization)                                                                                         \n",
            "                                                                                                  \n",
            " conv4_block3_2_relu (Activatio  (None, 16, 16, 256)  0          ['conv4_block3_2_bn[0][0]']      \n",
            " n)                                                                                               \n",
            "                                                                                                  \n",
            " conv4_block3_3_conv (Conv2D)   (None, 16, 16, 1024  263168      ['conv4_block3_2_relu[0][0]']    \n",
            "                                )                                                                 \n",
            "                                                                                                  \n",
            " conv4_block3_3_bn (BatchNormal  (None, 16, 16, 1024  4096       ['conv4_block3_3_conv[0][0]']    \n",
            " ization)                       )                                                                 \n",
            "                                                                                                  \n",
            " conv4_block3_add (Add)         (None, 16, 16, 1024  0           ['conv4_block2_out[0][0]',       \n",
            "                                )                                 'conv4_block3_3_bn[0][0]']      \n",
            "                                                                                                  \n",
            " conv4_block3_out (Activation)  (None, 16, 16, 1024  0           ['conv4_block3_add[0][0]']       \n",
            "                                )                                                                 \n",
            "                                                                                                  \n",
            " conv4_block4_1_conv (Conv2D)   (None, 16, 16, 256)  262400      ['conv4_block3_out[0][0]']       \n",
            "                                                                                                  \n",
            " conv4_block4_1_bn (BatchNormal  (None, 16, 16, 256)  1024       ['conv4_block4_1_conv[0][0]']    \n",
            " ization)                                                                                         \n",
            "                                                                                                  \n",
            " conv4_block4_1_relu (Activatio  (None, 16, 16, 256)  0          ['conv4_block4_1_bn[0][0]']      \n",
            " n)                                                                                               \n",
            "                                                                                                  \n",
            " conv4_block4_2_conv (Conv2D)   (None, 16, 16, 256)  590080      ['conv4_block4_1_relu[0][0]']    \n",
            "                                                                                                  \n",
            " conv4_block4_2_bn (BatchNormal  (None, 16, 16, 256)  1024       ['conv4_block4_2_conv[0][0]']    \n",
            " ization)                                                                                         \n",
            "                                                                                                  \n",
            " conv4_block4_2_relu (Activatio  (None, 16, 16, 256)  0          ['conv4_block4_2_bn[0][0]']      \n",
            " n)                                                                                               \n",
            "                                                                                                  \n",
            " conv4_block4_3_conv (Conv2D)   (None, 16, 16, 1024  263168      ['conv4_block4_2_relu[0][0]']    \n",
            "                                )                                                                 \n",
            "                                                                                                  \n",
            " conv4_block4_3_bn (BatchNormal  (None, 16, 16, 1024  4096       ['conv4_block4_3_conv[0][0]']    \n",
            " ization)                       )                                                                 \n",
            "                                                                                                  \n",
            " conv4_block4_add (Add)         (None, 16, 16, 1024  0           ['conv4_block3_out[0][0]',       \n",
            "                                )                                 'conv4_block4_3_bn[0][0]']      \n",
            "                                                                                                  \n",
            " conv4_block4_out (Activation)  (None, 16, 16, 1024  0           ['conv4_block4_add[0][0]']       \n",
            "                                )                                                                 \n",
            "                                                                                                  \n",
            " conv4_block5_1_conv (Conv2D)   (None, 16, 16, 256)  262400      ['conv4_block4_out[0][0]']       \n",
            "                                                                                                  \n",
            " conv4_block5_1_bn (BatchNormal  (None, 16, 16, 256)  1024       ['conv4_block5_1_conv[0][0]']    \n",
            " ization)                                                                                         \n",
            "                                                                                                  \n",
            " conv4_block5_1_relu (Activatio  (None, 16, 16, 256)  0          ['conv4_block5_1_bn[0][0]']      \n",
            " n)                                                                                               \n",
            "                                                                                                  \n",
            " conv4_block5_2_conv (Conv2D)   (None, 16, 16, 256)  590080      ['conv4_block5_1_relu[0][0]']    \n",
            "                                                                                                  \n",
            " conv4_block5_2_bn (BatchNormal  (None, 16, 16, 256)  1024       ['conv4_block5_2_conv[0][0]']    \n",
            " ization)                                                                                         \n",
            "                                                                                                  \n",
            " conv4_block5_2_relu (Activatio  (None, 16, 16, 256)  0          ['conv4_block5_2_bn[0][0]']      \n",
            " n)                                                                                               \n",
            "                                                                                                  \n",
            " conv4_block5_3_conv (Conv2D)   (None, 16, 16, 1024  263168      ['conv4_block5_2_relu[0][0]']    \n",
            "                                )                                                                 \n",
            "                                                                                                  \n",
            " conv4_block5_3_bn (BatchNormal  (None, 16, 16, 1024  4096       ['conv4_block5_3_conv[0][0]']    \n",
            " ization)                       )                                                                 \n",
            "                                                                                                  \n",
            " conv4_block5_add (Add)         (None, 16, 16, 1024  0           ['conv4_block4_out[0][0]',       \n",
            "                                )                                 'conv4_block5_3_bn[0][0]']      \n",
            "                                                                                                  \n",
            " conv4_block5_out (Activation)  (None, 16, 16, 1024  0           ['conv4_block5_add[0][0]']       \n",
            "                                )                                                                 \n",
            "                                                                                                  \n",
            " conv4_block6_1_conv (Conv2D)   (None, 16, 16, 256)  262400      ['conv4_block5_out[0][0]']       \n",
            "                                                                                                  \n",
            " conv4_block6_1_bn (BatchNormal  (None, 16, 16, 256)  1024       ['conv4_block6_1_conv[0][0]']    \n",
            " ization)                                                                                         \n",
            "                                                                                                  \n",
            " conv4_block6_1_relu (Activatio  (None, 16, 16, 256)  0          ['conv4_block6_1_bn[0][0]']      \n",
            " n)                                                                                               \n",
            "                                                                                                  \n",
            " conv4_block6_2_conv (Conv2D)   (None, 16, 16, 256)  590080      ['conv4_block6_1_relu[0][0]']    \n",
            "                                                                                                  \n",
            " conv4_block6_2_bn (BatchNormal  (None, 16, 16, 256)  1024       ['conv4_block6_2_conv[0][0]']    \n",
            " ization)                                                                                         \n",
            "                                                                                                  \n",
            " conv4_block6_2_relu (Activatio  (None, 16, 16, 256)  0          ['conv4_block6_2_bn[0][0]']      \n",
            " n)                                                                                               \n",
            "                                                                                                  \n",
            " conv4_block6_3_conv (Conv2D)   (None, 16, 16, 1024  263168      ['conv4_block6_2_relu[0][0]']    \n",
            "                                )                                                                 \n",
            "                                                                                                  \n",
            " conv4_block6_3_bn (BatchNormal  (None, 16, 16, 1024  4096       ['conv4_block6_3_conv[0][0]']    \n",
            " ization)                       )                                                                 \n",
            "                                                                                                  \n",
            " conv4_block6_add (Add)         (None, 16, 16, 1024  0           ['conv4_block5_out[0][0]',       \n",
            "                                )                                 'conv4_block6_3_bn[0][0]']      \n",
            "                                                                                                  \n",
            " conv4_block6_out (Activation)  (None, 16, 16, 1024  0           ['conv4_block6_add[0][0]']       \n",
            "                                )                                                                 \n",
            "                                                                                                  \n",
            " conv5_block1_1_conv (Conv2D)   (None, 8, 8, 512)    524800      ['conv4_block6_out[0][0]']       \n",
            "                                                                                                  \n",
            " conv5_block1_1_bn (BatchNormal  (None, 8, 8, 512)   2048        ['conv5_block1_1_conv[0][0]']    \n",
            " ization)                                                                                         \n",
            "                                                                                                  \n",
            " conv5_block1_1_relu (Activatio  (None, 8, 8, 512)   0           ['conv5_block1_1_bn[0][0]']      \n",
            " n)                                                                                               \n",
            "                                                                                                  \n",
            " conv5_block1_2_conv (Conv2D)   (None, 8, 8, 512)    2359808     ['conv5_block1_1_relu[0][0]']    \n",
            "                                                                                                  \n",
            " conv5_block1_2_bn (BatchNormal  (None, 8, 8, 512)   2048        ['conv5_block1_2_conv[0][0]']    \n",
            " ization)                                                                                         \n",
            "                                                                                                  \n",
            " conv5_block1_2_relu (Activatio  (None, 8, 8, 512)   0           ['conv5_block1_2_bn[0][0]']      \n",
            " n)                                                                                               \n",
            "                                                                                                  \n",
            " conv5_block1_0_conv (Conv2D)   (None, 8, 8, 2048)   2099200     ['conv4_block6_out[0][0]']       \n",
            "                                                                                                  \n",
            " conv5_block1_3_conv (Conv2D)   (None, 8, 8, 2048)   1050624     ['conv5_block1_2_relu[0][0]']    \n",
            "                                                                                                  \n",
            " conv5_block1_0_bn (BatchNormal  (None, 8, 8, 2048)  8192        ['conv5_block1_0_conv[0][0]']    \n",
            " ization)                                                                                         \n",
            "                                                                                                  \n",
            " conv5_block1_3_bn (BatchNormal  (None, 8, 8, 2048)  8192        ['conv5_block1_3_conv[0][0]']    \n",
            " ization)                                                                                         \n",
            "                                                                                                  \n",
            " conv5_block1_add (Add)         (None, 8, 8, 2048)   0           ['conv5_block1_0_bn[0][0]',      \n",
            "                                                                  'conv5_block1_3_bn[0][0]']      \n",
            "                                                                                                  \n",
            " conv5_block1_out (Activation)  (None, 8, 8, 2048)   0           ['conv5_block1_add[0][0]']       \n",
            "                                                                                                  \n",
            " conv5_block2_1_conv (Conv2D)   (None, 8, 8, 512)    1049088     ['conv5_block1_out[0][0]']       \n",
            "                                                                                                  \n",
            " conv5_block2_1_bn (BatchNormal  (None, 8, 8, 512)   2048        ['conv5_block2_1_conv[0][0]']    \n",
            " ization)                                                                                         \n",
            "                                                                                                  \n",
            " conv5_block2_1_relu (Activatio  (None, 8, 8, 512)   0           ['conv5_block2_1_bn[0][0]']      \n",
            " n)                                                                                               \n",
            "                                                                                                  \n",
            " conv5_block2_2_conv (Conv2D)   (None, 8, 8, 512)    2359808     ['conv5_block2_1_relu[0][0]']    \n",
            "                                                                                                  \n",
            " conv5_block2_2_bn (BatchNormal  (None, 8, 8, 512)   2048        ['conv5_block2_2_conv[0][0]']    \n",
            " ization)                                                                                         \n",
            "                                                                                                  \n",
            " conv5_block2_2_relu (Activatio  (None, 8, 8, 512)   0           ['conv5_block2_2_bn[0][0]']      \n",
            " n)                                                                                               \n",
            "                                                                                                  \n",
            " conv5_block2_3_conv (Conv2D)   (None, 8, 8, 2048)   1050624     ['conv5_block2_2_relu[0][0]']    \n",
            "                                                                                                  \n",
            " conv5_block2_3_bn (BatchNormal  (None, 8, 8, 2048)  8192        ['conv5_block2_3_conv[0][0]']    \n",
            " ization)                                                                                         \n",
            "                                                                                                  \n",
            " conv5_block2_add (Add)         (None, 8, 8, 2048)   0           ['conv5_block1_out[0][0]',       \n",
            "                                                                  'conv5_block2_3_bn[0][0]']      \n",
            "                                                                                                  \n",
            " conv5_block2_out (Activation)  (None, 8, 8, 2048)   0           ['conv5_block2_add[0][0]']       \n",
            "                                                                                                  \n",
            " conv5_block3_1_conv (Conv2D)   (None, 8, 8, 512)    1049088     ['conv5_block2_out[0][0]']       \n",
            "                                                                                                  \n",
            " conv5_block3_1_bn (BatchNormal  (None, 8, 8, 512)   2048        ['conv5_block3_1_conv[0][0]']    \n",
            " ization)                                                                                         \n",
            "                                                                                                  \n",
            " conv5_block3_1_relu (Activatio  (None, 8, 8, 512)   0           ['conv5_block3_1_bn[0][0]']      \n",
            " n)                                                                                               \n",
            "                                                                                                  \n",
            " conv5_block3_2_conv (Conv2D)   (None, 8, 8, 512)    2359808     ['conv5_block3_1_relu[0][0]']    \n",
            "                                                                                                  \n",
            " conv5_block3_2_bn (BatchNormal  (None, 8, 8, 512)   2048        ['conv5_block3_2_conv[0][0]']    \n",
            " ization)                                                                                         \n",
            "                                                                                                  \n",
            " conv5_block3_2_relu (Activatio  (None, 8, 8, 512)   0           ['conv5_block3_2_bn[0][0]']      \n",
            " n)                                                                                               \n",
            "                                                                                                  \n",
            " conv5_block3_3_conv (Conv2D)   (None, 8, 8, 2048)   1050624     ['conv5_block3_2_relu[0][0]']    \n",
            "                                                                                                  \n",
            " conv5_block3_3_bn (BatchNormal  (None, 8, 8, 2048)  8192        ['conv5_block3_3_conv[0][0]']    \n",
            " ization)                                                                                         \n",
            "                                                                                                  \n",
            " conv5_block3_add (Add)         (None, 8, 8, 2048)   0           ['conv5_block2_out[0][0]',       \n",
            "                                                                  'conv5_block3_3_bn[0][0]']      \n",
            "                                                                                                  \n",
            " conv5_block3_out (Activation)  (None, 8, 8, 2048)   0           ['conv5_block3_add[0][0]']       \n",
            "                                                                                                  \n",
            "==================================================================================================\n",
            "Total params: 23,587,712\n",
            "Trainable params: 16,950,528\n",
            "Non-trainable params: 6,637,184\n",
            "__________________________________________________________________________________________________\n"
          ]
        }
      ]
    },
    {
      "cell_type": "code",
      "execution_count": null,
      "metadata": {
        "id": "KKy6C8vNnnlZ"
      },
      "outputs": [],
      "source": [
        "model = tf.keras.Sequential([\n",
        "    base_model,\n",
        "    tf.keras.layers.Flatten(),\n",
        "    tf.keras.layers.Dense(num_of_classes, activation='softmax')\n",
        "])\n",
        "\n",
        "model.compile(optimizer=tf.keras.optimizers.Adam(),\n",
        "              loss=tf.keras.losses.CategoricalCrossentropy(),\n",
        "              metrics=['accuracy'])"
      ]
    },
    {
      "cell_type": "code",
      "source": [
        "model.summary()"
      ],
      "metadata": {
        "colab": {
          "base_uri": "https://localhost:8080/"
        },
        "id": "HC0jZ1gNBvrG",
        "outputId": "59a5e831-4309-4dd5-9301-f47391d18989"
      },
      "execution_count": null,
      "outputs": [
        {
          "output_type": "stream",
          "name": "stdout",
          "text": [
            "Model: \"sequential_5\"\n",
            "_________________________________________________________________\n",
            " Layer (type)                Output Shape              Param #   \n",
            "=================================================================\n",
            " resnet50 (Functional)       (None, 8, 8, 2048)        23587712  \n",
            "                                                                 \n",
            " flatten_5 (Flatten)         (None, 131072)            0         \n",
            "                                                                 \n",
            " dense_5 (Dense)             (None, 34)                4456482   \n",
            "                                                                 \n",
            "=================================================================\n",
            "Total params: 28,044,194\n",
            "Trainable params: 21,407,010\n",
            "Non-trainable params: 6,637,184\n",
            "_________________________________________________________________\n"
          ]
        }
      ]
    },
    {
      "cell_type": "code",
      "execution_count": null,
      "metadata": {
        "colab": {
          "base_uri": "https://localhost:8080/"
        },
        "id": "5-Q1VH9QnnlZ",
        "outputId": "871823bd-bdce-43cf-9612-a51bcead889c"
      },
      "outputs": [
        {
          "output_type": "stream",
          "name": "stdout",
          "text": [
            "Epoch 1/250\n",
            "39/39 [==============================] - 52s 1s/step - loss: 8.7443 - accuracy: 0.0769 - val_loss: 888.8450 - val_accuracy: 0.0417 - lr: 0.0010\n",
            "Epoch 2/250\n",
            "39/39 [==============================] - 46s 1s/step - loss: 2.6918 - accuracy: 0.2487 - val_loss: 199.6938 - val_accuracy: 0.0417 - lr: 0.0010\n",
            "Epoch 3/250\n",
            "39/39 [==============================] - 47s 1s/step - loss: 1.9713 - accuracy: 0.4420 - val_loss: 64.3426 - val_accuracy: 0.0935 - lr: 0.0010\n",
            "Epoch 4/250\n",
            "39/39 [==============================] - 46s 1s/step - loss: 1.4463 - accuracy: 0.5832 - val_loss: 21.8827 - val_accuracy: 0.0935 - lr: 0.0010\n",
            "Epoch 5/250\n",
            "39/39 [==============================] - 46s 1s/step - loss: 1.1129 - accuracy: 0.6716 - val_loss: 5.0078 - val_accuracy: 0.3489 - lr: 0.0010\n",
            "Epoch 6/250\n",
            "39/39 [==============================] - 45s 1s/step - loss: 1.0133 - accuracy: 0.6956 - val_loss: 8.3178 - val_accuracy: 0.1937 - lr: 0.0010\n",
            "Epoch 7/250\n",
            "39/39 [==============================] - 47s 1s/step - loss: 0.8075 - accuracy: 0.7485 - val_loss: 5.5512 - val_accuracy: 0.3639 - lr: 0.0010\n",
            "Epoch 8/250\n",
            "39/39 [==============================] - 46s 1s/step - loss: 0.6761 - accuracy: 0.7932 - val_loss: 7.2229 - val_accuracy: 0.2454 - lr: 0.0010\n",
            "Epoch 9/250\n",
            "39/39 [==============================] - 46s 1s/step - loss: 0.6177 - accuracy: 0.8112 - val_loss: 2.6977 - val_accuracy: 0.4090 - lr: 0.0010\n",
            "Epoch 10/250\n",
            "39/39 [==============================] - 45s 1s/step - loss: 0.5368 - accuracy: 0.8421 - val_loss: 2.6376 - val_accuracy: 0.3573 - lr: 0.0010\n",
            "Epoch 11/250\n",
            "39/39 [==============================] - 47s 1s/step - loss: 0.4754 - accuracy: 0.8604 - val_loss: 1.7067 - val_accuracy: 0.5843 - lr: 0.0010\n",
            "Epoch 12/250\n",
            "39/39 [==============================] - 45s 1s/step - loss: 0.4574 - accuracy: 0.8641 - val_loss: 4.6851 - val_accuracy: 0.3523 - lr: 0.0010\n",
            "Epoch 13/250\n",
            "39/39 [==============================] - 45s 1s/step - loss: 0.4613 - accuracy: 0.8584 - val_loss: 1.8756 - val_accuracy: 0.5676 - lr: 0.0010\n",
            "Epoch 14/250\n",
            "39/39 [==============================] - 45s 1s/step - loss: 0.4291 - accuracy: 0.8653 - val_loss: 1.7990 - val_accuracy: 0.6060 - lr: 0.0010\n",
            "Epoch 15/250\n",
            "39/39 [==============================] - 46s 1s/step - loss: 0.3689 - accuracy: 0.8909 - val_loss: 3.6951 - val_accuracy: 0.4541 - lr: 0.0010\n",
            "Epoch 16/250\n",
            "39/39 [==============================] - 45s 1s/step - loss: 0.2944 - accuracy: 0.9088 - val_loss: 5.3717 - val_accuracy: 0.3689 - lr: 0.0010\n",
            "Epoch 17/250\n",
            "39/39 [==============================] - 45s 1s/step - loss: 0.2679 - accuracy: 0.9194 - val_loss: 1.9081 - val_accuracy: 0.5860 - lr: 5.0000e-04\n",
            "Epoch 18/250\n",
            "39/39 [==============================] - 45s 1s/step - loss: 0.2193 - accuracy: 0.9414 - val_loss: 1.4001 - val_accuracy: 0.6277 - lr: 5.0000e-04\n",
            "Epoch 19/250\n",
            "39/39 [==============================] - 47s 1s/step - loss: 0.1894 - accuracy: 0.9373 - val_loss: 1.3055 - val_accuracy: 0.6878 - lr: 5.0000e-04\n",
            "Epoch 20/250\n",
            "39/39 [==============================] - 47s 1s/step - loss: 0.1700 - accuracy: 0.9442 - val_loss: 0.7015 - val_accuracy: 0.8080 - lr: 5.0000e-04\n",
            "Epoch 21/250\n",
            "39/39 [==============================] - 46s 1s/step - loss: 0.2219 - accuracy: 0.9288 - val_loss: 2.0618 - val_accuracy: 0.6227 - lr: 5.0000e-04\n",
            "Epoch 22/250\n",
            "39/39 [==============================] - 45s 1s/step - loss: 0.1512 - accuracy: 0.9540 - val_loss: 3.7862 - val_accuracy: 0.4891 - lr: 5.0000e-04\n",
            "Epoch 23/250\n",
            "39/39 [==============================] - 47s 1s/step - loss: 0.1583 - accuracy: 0.9471 - val_loss: 1.2160 - val_accuracy: 0.7179 - lr: 5.0000e-04\n",
            "Epoch 24/250\n",
            "39/39 [==============================] - 49s 1s/step - loss: 0.1624 - accuracy: 0.9524 - val_loss: 0.5657 - val_accuracy: 0.8631 - lr: 5.0000e-04\n",
            "Epoch 25/250\n",
            "39/39 [==============================] - 46s 1s/step - loss: 0.1360 - accuracy: 0.9548 - val_loss: 0.7536 - val_accuracy: 0.8047 - lr: 5.0000e-04\n",
            "Epoch 26/250\n",
            "39/39 [==============================] - 50s 1s/step - loss: 0.1554 - accuracy: 0.9532 - val_loss: 0.3867 - val_accuracy: 0.9065 - lr: 5.0000e-04\n",
            "Epoch 27/250\n",
            "39/39 [==============================] - 46s 1s/step - loss: 0.1524 - accuracy: 0.9503 - val_loss: 0.8633 - val_accuracy: 0.7796 - lr: 5.0000e-04\n",
            "Epoch 28/250\n",
            "39/39 [==============================] - 45s 1s/step - loss: 0.1073 - accuracy: 0.9674 - val_loss: 1.5866 - val_accuracy: 0.6861 - lr: 5.0000e-04\n",
            "Epoch 29/250\n",
            "39/39 [==============================] - 45s 1s/step - loss: 0.1359 - accuracy: 0.9560 - val_loss: 1.2724 - val_accuracy: 0.7513 - lr: 5.0000e-04\n",
            "Epoch 30/250\n",
            "39/39 [==============================] - 46s 1s/step - loss: 0.1229 - accuracy: 0.9617 - val_loss: 0.6831 - val_accuracy: 0.8481 - lr: 5.0000e-04\n",
            "Epoch 31/250\n",
            "39/39 [==============================] - 45s 1s/step - loss: 0.1201 - accuracy: 0.9617 - val_loss: 1.8051 - val_accuracy: 0.6678 - lr: 5.0000e-04\n",
            "Epoch 32/250\n",
            "39/39 [==============================] - 45s 1s/step - loss: 0.1045 - accuracy: 0.9699 - val_loss: 0.4679 - val_accuracy: 0.8681 - lr: 2.5000e-04\n",
            "Epoch 33/250\n",
            "39/39 [==============================] - 45s 1s/step - loss: 0.0813 - accuracy: 0.9764 - val_loss: 0.4138 - val_accuracy: 0.9098 - lr: 2.5000e-04\n",
            "Epoch 34/250\n",
            "39/39 [==============================] - 49s 1s/step - loss: 0.0874 - accuracy: 0.9727 - val_loss: 0.3354 - val_accuracy: 0.9249 - lr: 2.5000e-04\n",
            "Epoch 35/250\n",
            "39/39 [==============================] - 46s 1s/step - loss: 0.0795 - accuracy: 0.9752 - val_loss: 0.4294 - val_accuracy: 0.9082 - lr: 2.5000e-04\n",
            "Epoch 36/250\n",
            "39/39 [==============================] - 45s 1s/step - loss: 0.0583 - accuracy: 0.9809 - val_loss: 0.4865 - val_accuracy: 0.9032 - lr: 2.5000e-04\n",
            "Epoch 37/250\n",
            "39/39 [==============================] - 45s 1s/step - loss: 0.0448 - accuracy: 0.9886 - val_loss: 0.4252 - val_accuracy: 0.9199 - lr: 2.5000e-04\n",
            "Epoch 38/250\n",
            "39/39 [==============================] - 46s 1s/step - loss: 0.0504 - accuracy: 0.9858 - val_loss: 0.4445 - val_accuracy: 0.8948 - lr: 2.5000e-04\n",
            "Epoch 39/250\n",
            "39/39 [==============================] - 45s 1s/step - loss: 0.0622 - accuracy: 0.9845 - val_loss: 0.5029 - val_accuracy: 0.8781 - lr: 2.5000e-04\n",
            "Epoch 40/250\n",
            "39/39 [==============================] - 48s 1s/step - loss: 0.0371 - accuracy: 0.9874 - val_loss: 0.2932 - val_accuracy: 0.9599 - lr: 1.2500e-04\n",
            "Epoch 41/250\n",
            "39/39 [==============================] - 47s 1s/step - loss: 0.0410 - accuracy: 0.9862 - val_loss: 0.3727 - val_accuracy: 0.9132 - lr: 1.2500e-04\n",
            "Epoch 42/250\n",
            "39/39 [==============================] - 48s 1s/step - loss: 0.0376 - accuracy: 0.9894 - val_loss: 0.2418 - val_accuracy: 0.9466 - lr: 1.2500e-04\n",
            "Epoch 43/250\n",
            "39/39 [==============================] - 46s 1s/step - loss: 0.0361 - accuracy: 0.9866 - val_loss: 0.2686 - val_accuracy: 0.9499 - lr: 1.2500e-04\n",
            "Epoch 44/250\n",
            "39/39 [==============================] - 45s 1s/step - loss: 0.0358 - accuracy: 0.9886 - val_loss: 0.4621 - val_accuracy: 0.8948 - lr: 1.2500e-04\n",
            "Epoch 45/250\n",
            "39/39 [==============================] - 46s 1s/step - loss: 0.0488 - accuracy: 0.9853 - val_loss: 0.2770 - val_accuracy: 0.9516 - lr: 1.2500e-04\n",
            "Epoch 46/250\n",
            "39/39 [==============================] - 45s 1s/step - loss: 0.0428 - accuracy: 0.9858 - val_loss: 0.3349 - val_accuracy: 0.9316 - lr: 1.2500e-04\n",
            "Epoch 47/250\n",
            "39/39 [==============================] - 45s 1s/step - loss: 0.0375 - accuracy: 0.9858 - val_loss: 0.2722 - val_accuracy: 0.9533 - lr: 1.2500e-04\n",
            "Epoch 48/250\n",
            "39/39 [==============================] - 45s 1s/step - loss: 0.0312 - accuracy: 0.9910 - val_loss: 0.3158 - val_accuracy: 0.9482 - lr: 6.2500e-05\n",
            "Epoch 49/250\n",
            "39/39 [==============================] - 50s 1s/step - loss: 0.0307 - accuracy: 0.9923 - val_loss: 0.2362 - val_accuracy: 0.9566 - lr: 6.2500e-05\n",
            "Epoch 50/250\n",
            "39/39 [==============================] - 45s 1s/step - loss: 0.0291 - accuracy: 0.9915 - val_loss: 0.2940 - val_accuracy: 0.9416 - lr: 6.2500e-05\n",
            "Epoch 51/250\n",
            "39/39 [==============================] - 45s 1s/step - loss: 0.0228 - accuracy: 0.9935 - val_loss: 0.2845 - val_accuracy: 0.9416 - lr: 6.2500e-05\n",
            "Epoch 52/250\n",
            "39/39 [==============================] - 46s 1s/step - loss: 0.0345 - accuracy: 0.9874 - val_loss: 0.2589 - val_accuracy: 0.9366 - lr: 6.2500e-05\n",
            "Epoch 53/250\n",
            "39/39 [==============================] - 46s 1s/step - loss: 0.0323 - accuracy: 0.9886 - val_loss: 0.3389 - val_accuracy: 0.9466 - lr: 6.2500e-05\n",
            "Epoch 54/250\n",
            "39/39 [==============================] - 45s 1s/step - loss: 0.0324 - accuracy: 0.9910 - val_loss: 0.2564 - val_accuracy: 0.9566 - lr: 6.2500e-05\n",
            "Epoch 55/250\n",
            "39/39 [==============================] - 50s 1s/step - loss: 0.0292 - accuracy: 0.9910 - val_loss: 0.1994 - val_accuracy: 0.9566 - lr: 3.1250e-05\n",
            "Epoch 56/250\n",
            "39/39 [==============================] - 45s 1s/step - loss: 0.0266 - accuracy: 0.9927 - val_loss: 0.2209 - val_accuracy: 0.9466 - lr: 3.1250e-05\n",
            "Epoch 57/250\n",
            "39/39 [==============================] - 45s 1s/step - loss: 0.0221 - accuracy: 0.9935 - val_loss: 0.2078 - val_accuracy: 0.9583 - lr: 3.1250e-05\n",
            "Epoch 58/250\n",
            "39/39 [==============================] - 45s 1s/step - loss: 0.0207 - accuracy: 0.9927 - val_loss: 0.2570 - val_accuracy: 0.9499 - lr: 3.1250e-05\n",
            "Epoch 59/250\n",
            "39/39 [==============================] - 46s 1s/step - loss: 0.0200 - accuracy: 0.9947 - val_loss: 0.2751 - val_accuracy: 0.9516 - lr: 3.1250e-05\n",
            "Epoch 60/250\n",
            "39/39 [==============================] - 47s 1s/step - loss: 0.0241 - accuracy: 0.9910 - val_loss: 0.1948 - val_accuracy: 0.9599 - lr: 3.1250e-05\n",
            "Epoch 61/250\n",
            "39/39 [==============================] - 45s 1s/step - loss: 0.0197 - accuracy: 0.9939 - val_loss: 0.1973 - val_accuracy: 0.9616 - lr: 3.1250e-05\n",
            "Epoch 62/250\n",
            "39/39 [==============================] - 46s 1s/step - loss: 0.0178 - accuracy: 0.9947 - val_loss: 0.2704 - val_accuracy: 0.9449 - lr: 3.1250e-05\n",
            "Epoch 63/250\n",
            "39/39 [==============================] - 45s 1s/step - loss: 0.0299 - accuracy: 0.9902 - val_loss: 0.2819 - val_accuracy: 0.9549 - lr: 3.1250e-05\n",
            "Epoch 64/250\n",
            "39/39 [==============================] - 45s 1s/step - loss: 0.0195 - accuracy: 0.9923 - val_loss: 0.2056 - val_accuracy: 0.9516 - lr: 3.1250e-05\n",
            "Epoch 65/250\n",
            "39/39 [==============================] - 45s 1s/step - loss: 0.0196 - accuracy: 0.9935 - val_loss: 0.2360 - val_accuracy: 0.9583 - lr: 3.1250e-05\n",
            "Epoch 66/250\n",
            "39/39 [==============================] - 46s 1s/step - loss: 0.0192 - accuracy: 0.9935 - val_loss: 0.2682 - val_accuracy: 0.9466 - lr: 1.5625e-05\n",
            "Epoch 67/250\n",
            "39/39 [==============================] - 45s 1s/step - loss: 0.0266 - accuracy: 0.9919 - val_loss: 0.2211 - val_accuracy: 0.9549 - lr: 1.5625e-05\n",
            "Epoch 68/250\n",
            "39/39 [==============================] - 45s 1s/step - loss: 0.0254 - accuracy: 0.9931 - val_loss: 0.2668 - val_accuracy: 0.9482 - lr: 1.5625e-05\n",
            "Epoch 69/250\n",
            "39/39 [==============================] - 45s 1s/step - loss: 0.0232 - accuracy: 0.9923 - val_loss: 0.2290 - val_accuracy: 0.9516 - lr: 1.5625e-05\n",
            "Epoch 70/250\n",
            "39/39 [==============================] - 46s 1s/step - loss: 0.0241 - accuracy: 0.9927 - val_loss: 0.2366 - val_accuracy: 0.9533 - lr: 1.5625e-05\n",
            "Epoch 71/250\n",
            "39/39 [==============================] - 45s 1s/step - loss: 0.0183 - accuracy: 0.9943 - val_loss: 0.2563 - val_accuracy: 0.9482 - lr: 7.8125e-06\n",
            "Epoch 72/250\n",
            "39/39 [==============================] - 45s 1s/step - loss: 0.0150 - accuracy: 0.9967 - val_loss: 0.2572 - val_accuracy: 0.9549 - lr: 7.8125e-06\n",
            "Epoch 73/250\n",
            "39/39 [==============================] - 46s 1s/step - loss: 0.0154 - accuracy: 0.9963 - val_loss: 0.2211 - val_accuracy: 0.9566 - lr: 7.8125e-06\n",
            "Epoch 74/250\n",
            "39/39 [==============================] - 45s 1s/step - loss: 0.0193 - accuracy: 0.9951 - val_loss: 0.2963 - val_accuracy: 0.9382 - lr: 7.8125e-06\n",
            "Epoch 75/250\n",
            "39/39 [==============================] - 45s 1s/step - loss: 0.0251 - accuracy: 0.9927 - val_loss: 0.2841 - val_accuracy: 0.9549 - lr: 7.8125e-06\n",
            "Epoch 76/250\n",
            "39/39 [==============================] - 45s 1s/step - loss: 0.0219 - accuracy: 0.9935 - val_loss: 0.2650 - val_accuracy: 0.9432 - lr: 3.9063e-06\n",
            "Epoch 77/250\n",
            "39/39 [==============================] - 46s 1s/step - loss: 0.0150 - accuracy: 0.9951 - val_loss: 0.2167 - val_accuracy: 0.9583 - lr: 3.9063e-06\n",
            "Epoch 78/250\n",
            "39/39 [==============================] - 45s 1s/step - loss: 0.0146 - accuracy: 0.9963 - val_loss: 0.2312 - val_accuracy: 0.9549 - lr: 3.9063e-06\n",
            "Epoch 79/250\n",
            "39/39 [==============================] - 45s 1s/step - loss: 0.0257 - accuracy: 0.9931 - val_loss: 0.2705 - val_accuracy: 0.9466 - lr: 3.9063e-06\n",
            "Epoch 80/250\n",
            "39/39 [==============================] - 45s 1s/step - loss: 0.0225 - accuracy: 0.9915 - val_loss: 0.2439 - val_accuracy: 0.9533 - lr: 3.9063e-06\n",
            "Epoch 81/250\n",
            "39/39 [==============================] - 46s 1s/step - loss: 0.0181 - accuracy: 0.9943 - val_loss: 0.3117 - val_accuracy: 0.9449 - lr: 1.9531e-06\n",
            "Epoch 82/250\n",
            "39/39 [==============================] - 45s 1s/step - loss: 0.0176 - accuracy: 0.9951 - val_loss: 0.2587 - val_accuracy: 0.9432 - lr: 1.9531e-06\n",
            "Epoch 83/250\n",
            "39/39 [==============================] - 45s 1s/step - loss: 0.0178 - accuracy: 0.9935 - val_loss: 0.2223 - val_accuracy: 0.9599 - lr: 1.9531e-06\n",
            "Epoch 84/250\n",
            "39/39 [==============================] - 45s 1s/step - loss: 0.0192 - accuracy: 0.9927 - val_loss: 0.2392 - val_accuracy: 0.9533 - lr: 1.9531e-06\n",
            "Epoch 85/250\n",
            "39/39 [==============================] - ETA: 0s - loss: 0.0189 - accuracy: 0.9947Restoring model weights from the end of the best epoch: 60.\n",
            "39/39 [==============================] - 46s 1s/step - loss: 0.0189 - accuracy: 0.9947 - val_loss: 0.3129 - val_accuracy: 0.9482 - lr: 1.9531e-06\n",
            "Epoch 85: early stopping\n"
          ]
        }
      ],
      "source": [
        "history = model.fit(x=train_data_gen, \n",
        "                    validation_data=val_data_gen, \n",
        "                    epochs=epochs, batch_size=batch_size, shuffle=True, callbacks=[early_stopping, model_checkpoint, reduce_lr])"
      ]
    },
    {
      "cell_type": "code",
      "execution_count": null,
      "metadata": {
        "colab": {
          "base_uri": "https://localhost:8080/"
        },
        "id": "LcfNtfAdnnla",
        "outputId": "2d2552bd-e58a-4bb3-f2f0-072ebea33439"
      },
      "outputs": [
        {
          "output_type": "stream",
          "name": "stdout",
          "text": [
            "39/39 - 34s - loss: 0.0218 - accuracy: 0.9939 - 34s/epoch - 877ms/step\n",
            "Train accuracy: 99.39%\n"
          ]
        }
      ],
      "source": [
        "train_loss, train_acc = model.evaluate(train_data_gen, verbose=2)\n",
        "print(\"Train accuracy: \" + \"{:.2f}\".format(train_acc*100) + \"%\")"
      ]
    },
    {
      "cell_type": "code",
      "execution_count": null,
      "metadata": {
        "colab": {
          "base_uri": "https://localhost:8080/"
        },
        "id": "1XIli-zXnnla",
        "outputId": "532cc060-ab6f-4bfd-9538-3c9e9a386107"
      },
      "outputs": [
        {
          "output_type": "stream",
          "name": "stdout",
          "text": [
            "34/34 - 10s - loss: 0.1284 - accuracy: 0.9814 - 10s/epoch - 282ms/step\n",
            "Test accuracy: 98.14%\n"
          ]
        }
      ],
      "source": [
        "test_loss, test_acc = model.evaluate(test_data_gen, verbose=2)\n",
        "print(\"Test accuracy: \" + \"{:.2f}\".format(test_acc*100) + \"%\")"
      ]
    },
    {
      "cell_type": "code",
      "execution_count": null,
      "metadata": {
        "colab": {
          "base_uri": "https://localhost:8080/",
          "height": 513
        },
        "id": "fg5wLwMGnnlb",
        "outputId": "d56723bf-1074-4f26-c8fe-478377421dff"
      },
      "outputs": [
        {
          "output_type": "display_data",
          "data": {
            "text/plain": [
              "<Figure size 1440x576 with 2 Axes>"
            ],
            "image/png": "[encoded data removed]"
          },
          "metadata": {
            "needs_background": "light"
          }
        }
      ],
      "source": [
        "plot_diagrams(history)"
      ]
    },
    {
      "cell_type": "markdown",
      "metadata": {
        "id": "nQaBMMDTmMZ2"
      },
      "source": [
        "### Load the model"
      ]
    },
    {
      "cell_type": "code",
      "execution_count": null,
      "metadata": {
        "colab": {
          "base_uri": "https://localhost:8080/"
        },
        "outputId": "966ee983-7c24-4229-a6b1-58886e36bcd2",
        "id": "r6qg5DoIca1i"
      },
      "outputs": [
        {
          "output_type": "stream",
          "name": "stdout",
          "text": [
            "Mounted at /content/gdrive\n"
          ]
        }
      ],
      "source": [
        "import tensorflow as tf\n",
        "import matplotlib.pyplot as plt\n",
        "import numpy as np\n",
        "from keras.preprocessing.image import ImageDataGenerator\n",
        "\n",
        "from google.colab import drive\n",
        "drive.mount(\"/content/gdrive\")"
      ]
    },
    {
      "cell_type": "code",
      "execution_count": null,
      "metadata": {
        "id": "hyquboTHca1v"
      },
      "outputs": [],
      "source": [
        "from keras.models import load_model\n",
        "\n",
        "# Checkpoints\n",
        "checkpoint_filepath = '/content/gdrive/MyDrive/Colab Notebooks/Belgian Traffic Sign Best Model Pretrained/my_belgian_traffic_signs.hdf5'\n",
        "\n",
        "best_model = load_model(checkpoint_filepath)"
      ]
    },
    {
      "cell_type": "code",
      "execution_count": null,
      "metadata": {
        "id": "8rmvIqRica1w"
      },
      "outputs": [],
      "source": [
        "import zipfile\n",
        "local_zip = '/content/gdrive/MyDrive/imagedb_btsd.zip'\n",
        "zip_ref = zipfile.ZipFile(local_zip, 'r')\n",
        "zip_ref.extractall('/content')\n",
        "zip_ref.close()"
      ]
    },
    {
      "cell_type": "code",
      "execution_count": null,
      "metadata": {
        "id": "mIoX1FCCca1w"
      },
      "outputs": [],
      "source": [
        "train_path = '/content/imagedb_btsd/imagedb'\n",
        "test_path = '/content/imagedb_btsd/imagedb_test'"
      ]
    },
    {
      "cell_type": "code",
      "execution_count": null,
      "metadata": {
        "id": "Xjb9gLCfca1w"
      },
      "outputs": [],
      "source": [
        "batch_size = 64\n",
        "epochs = 250\n",
        "IMG_HEIGHT = 256\n",
        "IMG_WIDTH = 256\n",
        "IMG_COLOR = 3\n",
        "num_of_classes = 34"
      ]
    },
    {
      "cell_type": "code",
      "execution_count": null,
      "metadata": {
        "colab": {
          "base_uri": "https://localhost:8080/"
        },
        "outputId": "6b87cab9-e9b4-4dec-de06-22662119d5f4",
        "id": "UfM5z_SbctN_"
      },
      "outputs": [
        {
          "output_type": "stream",
          "name": "stdout",
          "text": [
            "Found 2457 images belonging to 34 classes.\n",
            "Found 599 images belonging to 34 classes.\n",
            "Found 2149 images belonging to 34 classes.\n"
          ]
        }
      ],
      "source": [
        "rescale = 1./255\n",
        "\n",
        "train_image_generator = ImageDataGenerator(rescale=rescale, \n",
        "                                           validation_split=0.2,\n",
        "                                           width_shift_range=0.1, \n",
        "                                           height_shift_range=0.1, \n",
        "                                           horizontal_flip=True, \n",
        "                                           rotation_range=15,\n",
        "                                           zoom_range=0.1,\n",
        "                                           preprocessing_function=tf.keras.applications.resnet50.preprocess_input)\n",
        "\n",
        "test_image_generator = ImageDataGenerator(rescale=rescale, preprocessing_function=tf.keras.applications.resnet50.preprocess_input)\n",
        "\n",
        "train_data_gen = train_image_generator.flow_from_directory(\n",
        "        directory=train_path,\n",
        "        target_size=(IMG_HEIGHT, IMG_WIDTH),\n",
        "        batch_size=batch_size,\n",
        "        class_mode='categorical',\n",
        "        subset='training')\n",
        "\n",
        "val_data_gen = train_image_generator.flow_from_directory(\n",
        "        directory=train_path,\n",
        "        target_size=(IMG_HEIGHT, IMG_WIDTH),\n",
        "        batch_size=batch_size,\n",
        "        class_mode='categorical',\n",
        "        subset='validation')\n",
        "\n",
        "test_data_gen = test_image_generator.flow_from_directory(\n",
        "        directory=test_path, \n",
        "        target_size=(IMG_HEIGHT, IMG_WIDTH),\n",
        "        batch_size=batch_size,\n",
        "        class_mode='categorical',\n",
        "        shuffle=False)"
      ]
    },
    {
      "cell_type": "code",
      "execution_count": null,
      "metadata": {
        "colab": {
          "base_uri": "https://localhost:8080/"
        },
        "outputId": "eb267530-a9e4-43ef-b2c5-77dad2adf872",
        "id": "zBsFit-Lca1x"
      },
      "outputs": [
        {
          "output_type": "stream",
          "name": "stdout",
          "text": [
            "Model: \"sequential_5\"\n",
            "_________________________________________________________________\n",
            " Layer (type)                Output Shape              Param #   \n",
            "=================================================================\n",
            " resnet50 (Functional)       (None, 8, 8, 2048)        23587712  \n",
            "                                                                 \n",
            " flatten_5 (Flatten)         (None, 131072)            0         \n",
            "                                                                 \n",
            " dense_5 (Dense)             (None, 34)                4456482   \n",
            "                                                                 \n",
            "=================================================================\n",
            "Total params: 28,044,194\n",
            "Trainable params: 21,407,010\n",
            "Non-trainable params: 6,637,184\n",
            "_________________________________________________________________\n"
          ]
        }
      ],
      "source": [
        "best_model.summary()"
      ]
    },
    {
      "cell_type": "code",
      "execution_count": null,
      "metadata": {
        "colab": {
          "base_uri": "https://localhost:8080/"
        },
        "outputId": "52454b0d-ba73-4fbc-dee7-64da44230376",
        "id": "ZDn9wxXXca1y"
      },
      "outputs": [
        {
          "output_type": "stream",
          "name": "stdout",
          "text": [
            "Trainable params: 21407010\n",
            "Non trainable params: 6637184\n"
          ]
        }
      ],
      "source": [
        "from keras.utils.layer_utils import count_params\n",
        "\n",
        "trainable_params = count_params(best_model.trainable_weights)\n",
        "non_trainable_params = count_params(best_model.non_trainable_weights)\n",
        "print(\"Trainable params:\", trainable_params)\n",
        "print(\"Non trainable params:\", non_trainable_params)"
      ]
    },
    {
      "cell_type": "code",
      "execution_count": null,
      "metadata": {
        "colab": {
          "base_uri": "https://localhost:8080/"
        },
        "outputId": "0646d0ab-81d4-4d59-aef6-eec182162c29",
        "id": "LjeOhJXNca1y"
      },
      "outputs": [
        {
          "output_type": "stream",
          "name": "stdout",
          "text": [
            "39/39 - 35s - loss: 0.0129 - accuracy: 0.9963 - 35s/epoch - 909ms/step\n",
            "Train accuracy: 99.63%\n"
          ]
        }
      ],
      "source": [
        "train_loss, train_acc = best_model.evaluate(train_data_gen, verbose=2)\n",
        "print(\"Train accuracy: \" + \"{:.2f}\".format(train_acc*100) + \"%\")"
      ]
    },
    {
      "cell_type": "code",
      "execution_count": null,
      "metadata": {
        "colab": {
          "base_uri": "https://localhost:8080/"
        },
        "outputId": "b1474827-c684-4b78-8e33-5b288d68a3c5",
        "id": "2qNWWS8Cca1y"
      },
      "outputs": [
        {
          "output_type": "stream",
          "name": "stdout",
          "text": [
            "34/34 - 9s - loss: 0.1284 - accuracy: 0.9814 - 9s/epoch - 278ms/step\n",
            "Test accuracy: 98.14%\n"
          ]
        }
      ],
      "source": [
        "test_loss, test_acc = best_model.evaluate(test_data_gen, verbose=2)\n",
        "print(\"Test accuracy: \" + \"{:.2f}\".format(test_acc*100) + \"%\")"
      ]
    }
  ],
  "metadata": {
    "colab": {
      "collapsed_sections": [],
      "provenance": []
    },
    "gpuClass": "standard",
    "kernelspec": {
      "display_name": "Python 3",
      "name": "python3"
    },
    "language_info": {
      "name": "python"
    }
  },
  "nbformat": 4,
  "nbformat_minor": 0
}